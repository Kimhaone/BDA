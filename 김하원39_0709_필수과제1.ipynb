{
 "cells": [
  {
   "cell_type": "markdown",
   "id": "c9b5ded0",
   "metadata": {},
   "source": [
    "## *와 + 의 차이\n",
    "- *: 앞에 오는 요소가 0번 이상 나오는 패턴을 찾음\n",
    "- +: 앞에 오는 요소가 1번 이상 나오는 패턴을 찾음"
   ]
  },
  {
   "cell_type": "code",
   "execution_count": 6,
   "id": "008a271a",
   "metadata": {},
   "outputs": [],
   "source": [
    "import re\n",
    "\n",
    "# 정규표현식 패턴\n",
    "pattern1 = r'ab*'  # 'a' 다음에 'b'가 0번 이상 반복되는 패턴\n",
    "pattern2 = r'ab+'  # 'a' 다음에 'b'가 1번 이상 반복되는 패턴\n",
    "\n",
    "# 문자열 데이터\n",
    "text1 = 'ab'\n",
    "text2 = 'abb'\n",
    "text3 = 'ac'\n"
   ]
  },
  {
   "cell_type": "code",
   "execution_count": 21,
   "id": "2afad1ab",
   "metadata": {},
   "outputs": [
    {
     "name": "stdout",
     "output_type": "stream",
     "text": [
      "<re.Match object; span=(0, 2), match='ab'>\n",
      "<re.Match object; span=(0, 3), match='abb'>\n",
      "<re.Match object; span=(0, 1), match='a'>\n",
      "<re.Match object; span=(0, 2), match='ab'>\n",
      "<re.Match object; span=(0, 3), match='abb'>\n",
      "None\n"
     ]
    }
   ],
   "source": [
    "# 패턴1에 대한 매칭 확인\n",
    "match1 = re.search(pattern1, text1)\n",
    "print(match1) \n",
    "\n",
    "match2 = re.search(pattern1, text2)\n",
    "print(match2) \n",
    "\n",
    "match3 = re.search(pattern1, text3)\n",
    "print(match3) \n",
    "\n",
    "# 패턴2에 대한 매칭 확인\n",
    "match4 = re.search(pattern2, text1)\n",
    "print(match4) \n",
    "\n",
    "match5 = re.search(pattern2, text2)\n",
    "print(match5) \n",
    "\n",
    "match6 = re.search(pattern2, text3)\n",
    "print(match6)"
   ]
  },
  {
   "cell_type": "code",
   "execution_count": null,
   "id": "06fcef82",
   "metadata": {},
   "outputs": [],
   "source": []
  }
 ],
 "metadata": {
  "kernelspec": {
   "display_name": "Python 3 (ipykernel)",
   "language": "python",
   "name": "python3"
  },
  "language_info": {
   "codemirror_mode": {
    "name": "ipython",
    "version": 3
   },
   "file_extension": ".py",
   "mimetype": "text/x-python",
   "name": "python",
   "nbconvert_exporter": "python",
   "pygments_lexer": "ipython3",
   "version": "3.9.13"
  }
 },
 "nbformat": 4,
 "nbformat_minor": 5
}
