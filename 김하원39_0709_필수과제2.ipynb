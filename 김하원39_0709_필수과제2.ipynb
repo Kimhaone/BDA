{
 "cells": [
  {
   "cell_type": "code",
   "execution_count": 3,
   "id": "6bcb772f",
   "metadata": {},
   "outputs": [],
   "source": [
    "import re"
   ]
  },
  {
   "cell_type": "markdown",
   "id": "d8a35c81",
   "metadata": {},
   "source": [
    "## re.findall(pattern, string, flags=0):\n",
    "- 문자열에서 패턴과 일치하는 모든 부분을 찾아 리스트로 반환"
   ]
  },
  {
   "cell_type": "code",
   "execution_count": 6,
   "id": "548137a4",
   "metadata": {},
   "outputs": [
    {
     "name": "stdout",
     "output_type": "stream",
     "text": [
      "['123', '456']\n"
     ]
    }
   ],
   "source": [
    "pattern = r'\\d+'  # 1개 이상의 숫자를 찾는 패턴\n",
    "text = 'I have 123 apples and 456 oranges.'\n",
    "\n",
    "matches = re.findall(pattern, text)\n",
    "print(matches)"
   ]
  },
  {
   "cell_type": "markdown",
   "id": "2e362136",
   "metadata": {},
   "source": [
    "## re.sub(pattern, repl, string, count=0, flags=0):\n",
    "- 문자열에서 패턴과 일치하는 부분을 다른 문자열로 대체\n",
    "\n"
   ]
  },
  {
   "cell_type": "code",
   "execution_count": 7,
   "id": "dbbe6871",
   "metadata": {},
   "outputs": [
    {
     "name": "stdout",
     "output_type": "stream",
     "text": [
      "I have an orange.\n"
     ]
    }
   ],
   "source": [
    "pattern = r'\\bapple\\b'  # 'apple'과 정확히 일치하는 단어를 찾는 패턴\n",
    "replacement = 'orange'\n",
    "text = 'I have an apple.'\n",
    "\n",
    "new_text = re.sub(pattern, replacement, text)\n",
    "print(new_text)"
   ]
  },
  {
   "cell_type": "markdown",
   "id": "7f6d92d0",
   "metadata": {},
   "source": [
    "## re.split(pattern, string, maxsplit=0, flags=0):\n",
    "\n",
    "- 문자열을 패턴에 따라 분할하여 리스트로 반환\n"
   ]
  },
  {
   "cell_type": "code",
   "execution_count": 8,
   "id": "fc56999d",
   "metadata": {},
   "outputs": [
    {
     "name": "stdout",
     "output_type": "stream",
     "text": [
      "['Hello', 'World', 'OpenAI']\n"
     ]
    }
   ],
   "source": [
    "pattern = r'\\s+'  # 공백을 기준으로 분할하는 패턴\n",
    "text = 'Hello    World   OpenAI'\n",
    "\n",
    "split_text = re.split(pattern, text)\n",
    "print(split_text)"
   ]
  },
  {
   "cell_type": "markdown",
   "id": "79dde2c0",
   "metadata": {},
   "source": [
    "## re.compile(pattern, flags=0):\n",
    "\n",
    "- 정규표현식 패턴을 컴파일하여 재사용 가능한 패턴 객체를 생성\n"
   ]
  },
  {
   "cell_type": "code",
   "execution_count": 5,
   "id": "4411dfcd",
   "metadata": {},
   "outputs": [
    {
     "name": "stdout",
     "output_type": "stream",
     "text": [
      "['123', '456']\n"
     ]
    }
   ],
   "source": [
    "pattern = r'\\d+'  # 1개 이상의 숫자를 찾는 패턴\n",
    "text = '123 abc 456'\n",
    "\n",
    "regex = re.compile(pattern)  # 패턴을 컴파일하여 패턴 객체 생성\n",
    "matches = regex.findall(text)  # 패턴 객체를 사용하여 문자열에서 패턴과 일치하는 부분을 찾음\n",
    "print(matches)"
   ]
  },
  {
   "cell_type": "markdown",
   "id": "20041fe2",
   "metadata": {},
   "source": [
    "## re.IGNORECASE (또는 re.I) 플래그:\n",
    "\n",
    "- 대소문자를 구분하지 않고 패턴을 비교 가능\n",
    "- re.search() 또는 re.match() 함수와 함께 사용"
   ]
  },
  {
   "cell_type": "code",
   "execution_count": 4,
   "id": "4322f3ea",
   "metadata": {},
   "outputs": [
    {
     "name": "stdout",
     "output_type": "stream",
     "text": [
      "Apple\n"
     ]
    }
   ],
   "source": [
    "pattern = r'apple'\n",
    "text = 'I have an Apple.'\n",
    "\n",
    "match = re.search(pattern, text, re.IGNORECASE)\n",
    "if match:\n",
    "    print(match.group())  # 'Apple'"
   ]
  },
  {
   "cell_type": "code",
   "execution_count": null,
   "id": "4a122a5f",
   "metadata": {},
   "outputs": [],
   "source": []
  },
  {
   "cell_type": "code",
   "execution_count": null,
   "id": "eea939a5",
   "metadata": {},
   "outputs": [],
   "source": []
  }
 ],
 "metadata": {
  "kernelspec": {
   "display_name": "Python 3 (ipykernel)",
   "language": "python",
   "name": "python3"
  },
  "language_info": {
   "codemirror_mode": {
    "name": "ipython",
    "version": 3
   },
   "file_extension": ".py",
   "mimetype": "text/x-python",
   "name": "python",
   "nbconvert_exporter": "python",
   "pygments_lexer": "ipython3",
   "version": "3.9.13"
  }
 },
 "nbformat": 4,
 "nbformat_minor": 5
}
