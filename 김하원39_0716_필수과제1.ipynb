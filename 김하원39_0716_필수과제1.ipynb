{
 "cells": [
  {
   "cell_type": "markdown",
   "id": "d07ead77",
   "metadata": {},
   "source": [
    "### 판다스에서 사용할 수 있는 str문법인데\n",
    "### 필수과제 1 \n",
    "#### 이외에 다양한 str 문법들 찾아서 개념 정리 및 코드로 구현하기\n",
    "#### 위의 데이터 가지고 모든 함수들 다 적용해 보고 어떤 식으로 작동하는지랑 꼭 주석처리로 설명까지 부탁드립니다!\n",
    "- 파이썬문법 문자열 함수, 문자열에 대한 기초 문법을 그대로 응용만 하면 된다.\n",
    "- str.split()\n",
    "- str.get()\n",
    "- str.startswidth()\n",
    "- str.endswith()\n",
    "- str.contains()\n",
    "- str.replace()\n",
    "- str.extract()\n",
    "- str.pad()\n",
    "- str.strip() \n",
    "- str.lower, upper 등 다 가능\n",
    "- str.match 정규표현식에서 한 것 # 일치여부 확인 "
   ]
  },
  {
   "cell_type": "code",
   "execution_count": 21,
   "id": "9b70d77e",
   "metadata": {},
   "outputs": [],
   "source": [
    "import pandas as pd\n",
    "survey = pd.read_csv('survey_설문지.csv')\n",
    "\n",
    "survey = survey.dropna()\n",
    "survey['comment'] = survey['comment'].str.replace('[A-Za-z]', \"\", regex = True)\n",
    "\n",
    "survey['comment'] = survey['comment'].str.replace('\\(.+?\\)',\"\", regex=True) \n"
   ]
  },
  {
   "cell_type": "code",
   "execution_count": 22,
   "id": "18283632",
   "metadata": {},
   "outputs": [
    {
     "data": {
      "text/html": [
       "<div>\n",
       "<style scoped>\n",
       "    .dataframe tbody tr th:only-of-type {\n",
       "        vertical-align: middle;\n",
       "    }\n",
       "\n",
       "    .dataframe tbody tr th {\n",
       "        vertical-align: top;\n",
       "    }\n",
       "\n",
       "    .dataframe thead th {\n",
       "        text-align: right;\n",
       "    }\n",
       "</style>\n",
       "<table border=\"1\" class=\"dataframe\">\n",
       "  <thead>\n",
       "    <tr style=\"text-align: right;\">\n",
       "      <th></th>\n",
       "      <th>datetime</th>\n",
       "      <th>comment</th>\n",
       "      <th>satisfaction</th>\n",
       "    </tr>\n",
       "  </thead>\n",
       "  <tbody>\n",
       "    <tr>\n",
       "      <th>0</th>\n",
       "      <td>2019-03-11</td>\n",
       "      <td>역앞에 젊은이들이 모여있다</td>\n",
       "      <td>1</td>\n",
       "    </tr>\n",
       "    <tr>\n",
       "      <th>1</th>\n",
       "      <td>2019-02-25</td>\n",
       "      <td>운동할 수 있는 장소가 있는 것이 좋다</td>\n",
       "      <td>5</td>\n",
       "    </tr>\n",
       "    <tr>\n",
       "      <th>2</th>\n",
       "      <td>2019-02-18</td>\n",
       "      <td>육아 지원이 좋다</td>\n",
       "      <td>5</td>\n",
       "    </tr>\n",
       "    <tr>\n",
       "      <th>3</th>\n",
       "      <td>2019-04-09</td>\n",
       "      <td>어린이집에 바로 입원할 수 있다</td>\n",
       "      <td>4</td>\n",
       "    </tr>\n",
       "    <tr>\n",
       "      <th>4</th>\n",
       "      <td>2019-01-06</td>\n",
       "      <td>역앞 상가가 쓸쓸하다</td>\n",
       "      <td>2</td>\n",
       "    </tr>\n",
       "    <tr>\n",
       "      <th>...</th>\n",
       "      <td>...</td>\n",
       "      <td>...</td>\n",
       "      <td>...</td>\n",
       "    </tr>\n",
       "    <tr>\n",
       "      <th>81</th>\n",
       "      <td>2019-01-21</td>\n",
       "      <td>초등학교 운동장이 잔디밭이라서 아주 좋다</td>\n",
       "      <td>5</td>\n",
       "    </tr>\n",
       "    <tr>\n",
       "      <th>82</th>\n",
       "      <td>2019-04-30</td>\n",
       "      <td>홈페이지에서도 설문지를 투고할 수 있게 해 달라</td>\n",
       "      <td>2</td>\n",
       "    </tr>\n",
       "    <tr>\n",
       "      <th>83</th>\n",
       "      <td>2019-01-09</td>\n",
       "      <td>공원에 놀이기구가 너무 적다</td>\n",
       "      <td>1</td>\n",
       "    </tr>\n",
       "    <tr>\n",
       "      <th>84</th>\n",
       "      <td>2019-03-09</td>\n",
       "      <td>공원을 더 늘렸으면 좋겠다</td>\n",
       "      <td>2</td>\n",
       "    </tr>\n",
       "    <tr>\n",
       "      <th>85</th>\n",
       "      <td>2019-04-02</td>\n",
       "      <td>역앞에 주차장이 적다, 불편하다</td>\n",
       "      <td>1</td>\n",
       "    </tr>\n",
       "  </tbody>\n",
       "</table>\n",
       "<p>84 rows × 3 columns</p>\n",
       "</div>"
      ],
      "text/plain": [
       "      datetime                     comment  satisfaction\n",
       "0   2019-03-11              역앞에 젊은이들이 모여있다             1\n",
       "1   2019-02-25       운동할 수 있는 장소가 있는 것이 좋다             5\n",
       "2   2019-02-18                   육아 지원이 좋다             5\n",
       "3   2019-04-09           어린이집에 바로 입원할 수 있다             4\n",
       "4   2019-01-06                 역앞 상가가 쓸쓸하다             2\n",
       "..         ...                         ...           ...\n",
       "81  2019-01-21      초등학교 운동장이 잔디밭이라서 아주 좋다             5\n",
       "82  2019-04-30  홈페이지에서도 설문지를 투고할 수 있게 해 달라             2\n",
       "83  2019-01-09             공원에 놀이기구가 너무 적다             1\n",
       "84  2019-03-09              공원을 더 늘렸으면 좋겠다             2\n",
       "85  2019-04-02           역앞에 주차장이 적다, 불편하다             1\n",
       "\n",
       "[84 rows x 3 columns]"
      ]
     },
     "execution_count": 22,
     "metadata": {},
     "output_type": "execute_result"
    }
   ],
   "source": [
    "survey"
   ]
  },
  {
   "cell_type": "code",
   "execution_count": 24,
   "id": "01874eb2",
   "metadata": {},
   "outputs": [
    {
     "data": {
      "text/plain": [
       "0                     [역앞에, 젊은이들이, 모여있다]\n",
       "1          [운동할, 수, 있는, 장소가, 있는, 것이, 좋다]\n",
       "2                          [육아, 지원이, 좋다]\n",
       "3                [어린이집에, 바로, 입원할, 수, 있다]\n",
       "4                        [역앞, 상가가, 쓸쓸하다]\n",
       "                     ...                \n",
       "81          [초등학교, 운동장이, 잔디밭이라서, 아주, 좋다]\n",
       "82    [홈페이지에서도, 설문지를, 투고할, 수, 있게, 해, 달라]\n",
       "83                  [공원에, 놀이기구가, 너무, 적다]\n",
       "84                   [공원을, 더, 늘렸으면, 좋겠다]\n",
       "85                [역앞에, 주차장이, 적다,, 불편하다]\n",
       "Name: comment, Length: 84, dtype: object"
      ]
     },
     "execution_count": 24,
     "metadata": {},
     "output_type": "execute_result"
    }
   ],
   "source": [
    "#1. str.split(): '' 내의 텍스트를 기반으로 분할\n",
    "\n",
    "survey['comment'].str.split(' ')"
   ]
  },
  {
   "cell_type": "code",
   "execution_count": 25,
   "id": "eec741a1",
   "metadata": {},
   "outputs": [
    {
     "data": {
      "text/plain": [
       "0     다\n",
       "1     다\n",
       "2     다\n",
       "3     다\n",
       "4     다\n",
       "     ..\n",
       "81    다\n",
       "82    라\n",
       "83    다\n",
       "84    다\n",
       "85    다\n",
       "Name: comment, Length: 84, dtype: object"
      ]
     },
     "execution_count": 25,
     "metadata": {},
     "output_type": "execute_result"
    }
   ],
   "source": [
    "#2.str.get(): ()안의 숫자 번째의 글자\n",
    "\n",
    "survey['comment'].str.get(-1)"
   ]
  },
  {
   "cell_type": "code",
   "execution_count": 26,
   "id": "d25e9ad2",
   "metadata": {},
   "outputs": [
    {
     "data": {
      "text/plain": [
       "0      True\n",
       "1     False\n",
       "2     False\n",
       "3     False\n",
       "4      True\n",
       "      ...  \n",
       "81    False\n",
       "82    False\n",
       "83    False\n",
       "84    False\n",
       "85     True\n",
       "Name: comment, Length: 84, dtype: bool"
      ]
     },
     "execution_count": 26,
     "metadata": {},
     "output_type": "execute_result"
    }
   ],
   "source": [
    "#3.str.startswith(): () 내의 텍스트로 시작하는지 T/F로 표현\n",
    "survey['comment'].str.startswith('역')"
   ]
  },
  {
   "cell_type": "code",
   "execution_count": 27,
   "id": "2426c40a",
   "metadata": {},
   "outputs": [
    {
     "data": {
      "text/plain": [
       "0     False\n",
       "1     False\n",
       "2     False\n",
       "3     False\n",
       "4     False\n",
       "      ...  \n",
       "81    False\n",
       "82    False\n",
       "83    False\n",
       "84     True\n",
       "85    False\n",
       "Name: comment, Length: 84, dtype: bool"
      ]
     },
     "execution_count": 27,
     "metadata": {},
     "output_type": "execute_result"
    }
   ],
   "source": [
    "#4.str.endswith(): ()의 텍스트로 끝나는지 T/F로 표현\n",
    "survey['comment'].str.endswith('좋겠다')"
   ]
  },
  {
   "cell_type": "code",
   "execution_count": 28,
   "id": "98eed36d",
   "metadata": {},
   "outputs": [
    {
     "data": {
      "text/plain": [
       "0      True\n",
       "1     False\n",
       "2     False\n",
       "3     False\n",
       "4      True\n",
       "      ...  \n",
       "81    False\n",
       "82    False\n",
       "83    False\n",
       "84    False\n",
       "85     True\n",
       "Name: comment, Length: 84, dtype: bool"
      ]
     },
     "execution_count": 28,
     "metadata": {},
     "output_type": "execute_result"
    }
   ],
   "source": [
    "#5.str.contains(): ()의 텍스트를 표함하는지 T/F로 표현\n",
    "survey['comment'].str.contains('역')"
   ]
  },
  {
   "cell_type": "code",
   "execution_count": 29,
   "id": "4abce808",
   "metadata": {},
   "outputs": [
    {
     "data": {
      "text/plain": [
       "0                 역앞에_젊은이들이_모여있다\n",
       "1          운동할_수_있는_장소가_있는_것이_좋다\n",
       "2                      육아_지원이_좋다\n",
       "3              어린이집에_바로_입원할_수_있다\n",
       "4                    역앞_상가가_쓸쓸하다\n",
       "                 ...            \n",
       "81        초등학교_운동장이_잔디밭이라서_아주_좋다\n",
       "82    홈페이지에서도_설문지를_투고할_수_있게_해_달라\n",
       "83               공원에_놀이기구가_너무_적다\n",
       "84                공원을_더_늘렸으면_좋겠다\n",
       "85             역앞에_주차장이_적다,_불편하다\n",
       "Name: comment, Length: 84, dtype: object"
      ]
     },
     "execution_count": 29,
     "metadata": {},
     "output_type": "execute_result"
    }
   ],
   "source": [
    "#6.str.replace(): 특정한 텍스트를 특정한 텍스트로 변경\n",
    "survey['comment'].str.replace(' ', '_')"
   ]
  },
  {
   "cell_type": "code",
   "execution_count": 31,
   "id": "f2d61c99",
   "metadata": {},
   "outputs": [
    {
     "data": {
      "text/html": [
       "<div>\n",
       "<style scoped>\n",
       "    .dataframe tbody tr th:only-of-type {\n",
       "        vertical-align: middle;\n",
       "    }\n",
       "\n",
       "    .dataframe tbody tr th {\n",
       "        vertical-align: top;\n",
       "    }\n",
       "\n",
       "    .dataframe thead th {\n",
       "        text-align: right;\n",
       "    }\n",
       "</style>\n",
       "<table border=\"1\" class=\"dataframe\">\n",
       "  <thead>\n",
       "    <tr style=\"text-align: right;\">\n",
       "      <th></th>\n",
       "      <th>0</th>\n",
       "    </tr>\n",
       "  </thead>\n",
       "  <tbody>\n",
       "    <tr>\n",
       "      <th>0</th>\n",
       "      <td>NaN</td>\n",
       "    </tr>\n",
       "    <tr>\n",
       "      <th>1</th>\n",
       "      <td>운동할</td>\n",
       "    </tr>\n",
       "    <tr>\n",
       "      <th>2</th>\n",
       "      <td>NaN</td>\n",
       "    </tr>\n",
       "    <tr>\n",
       "      <th>3</th>\n",
       "      <td>NaN</td>\n",
       "    </tr>\n",
       "    <tr>\n",
       "      <th>4</th>\n",
       "      <td>NaN</td>\n",
       "    </tr>\n",
       "    <tr>\n",
       "      <th>...</th>\n",
       "      <td>...</td>\n",
       "    </tr>\n",
       "    <tr>\n",
       "      <th>81</th>\n",
       "      <td>운동장이</td>\n",
       "    </tr>\n",
       "    <tr>\n",
       "      <th>82</th>\n",
       "      <td>NaN</td>\n",
       "    </tr>\n",
       "    <tr>\n",
       "      <th>83</th>\n",
       "      <td>NaN</td>\n",
       "    </tr>\n",
       "    <tr>\n",
       "      <th>84</th>\n",
       "      <td>NaN</td>\n",
       "    </tr>\n",
       "    <tr>\n",
       "      <th>85</th>\n",
       "      <td>NaN</td>\n",
       "    </tr>\n",
       "  </tbody>\n",
       "</table>\n",
       "<p>84 rows × 1 columns</p>\n",
       "</div>"
      ],
      "text/plain": [
       "       0\n",
       "0    NaN\n",
       "1    운동할\n",
       "2    NaN\n",
       "3    NaN\n",
       "4    NaN\n",
       "..   ...\n",
       "81  운동장이\n",
       "82   NaN\n",
       "83   NaN\n",
       "84   NaN\n",
       "85   NaN\n",
       "\n",
       "[84 rows x 1 columns]"
      ]
     },
     "execution_count": 31,
     "metadata": {},
     "output_type": "execute_result"
    }
   ],
   "source": [
    "#7.str.extract(): 추출하고 싶은 문자열의 정규표현식을  대입\n",
    "\n",
    "pattern = r'\\b(운동\\w*)'\n",
    "\n",
    "survey['comment'].str.extract(pattern)"
   ]
  },
  {
   "cell_type": "code",
   "execution_count": 32,
   "id": "9b1ccb13",
   "metadata": {},
   "outputs": [
    {
     "data": {
      "text/plain": [
       "0           역앞에 젊은이들이 모여있다******\n",
       "1          운동할 수 있는 장소가 있는 것이 좋다\n",
       "2           육아 지원이 좋다***********\n",
       "3           어린이집에 바로 입원할 수 있다***\n",
       "4           역앞 상가가 쓸쓸하다*********\n",
       "                 ...            \n",
       "81        초등학교 운동장이 잔디밭이라서 아주 좋다\n",
       "82    홈페이지에서도 설문지를 투고할 수 있게 해 달라\n",
       "83          공원에 놀이기구가 너무 적다*****\n",
       "84          공원을 더 늘렸으면 좋겠다******\n",
       "85          역앞에 주차장이 적다, 불편하다***\n",
       "Name: comment, Length: 84, dtype: object"
      ]
     },
     "execution_count": 32,
     "metadata": {},
     "output_type": "execute_result"
    }
   ],
   "source": [
    "#8.str.pad(): 문자열의 길이를 지정한 길이로 맞춤\n",
    "\n",
    "survey['comment'].str.pad(width = 20, fillchar=\"*\", side=\"right\" )"
   ]
  },
  {
   "cell_type": "code",
   "execution_count": 33,
   "id": "d1606cd8",
   "metadata": {},
   "outputs": [
    {
     "data": {
      "text/plain": [
       "0                 역앞에 젊은이들이 모여있다\n",
       "1          운동할 수 있는 장소가 있는 것이 좋다\n",
       "2                      육아 지원이 좋다\n",
       "3              어린이집에 바로 입원할 수 있다\n",
       "4                    역앞 상가가 쓸쓸하다\n",
       "                 ...            \n",
       "81        초등학교 운동장이 잔디밭이라서 아주 좋다\n",
       "82    홈페이지에서도 설문지를 투고할 수 있게 해 달라\n",
       "83               공원에 놀이기구가 너무 적다\n",
       "84                공원을 더 늘렸으면 좋겠다\n",
       "85             역앞에 주차장이 적다, 불편하다\n",
       "Name: comment, Length: 84, dtype: object"
      ]
     },
     "execution_count": 33,
     "metadata": {},
     "output_type": "execute_result"
    }
   ],
   "source": [
    "#9.str.strip(): 공백 제거\n",
    "survey['comment'].str.strip()"
   ]
  },
  {
   "cell_type": "code",
   "execution_count": 36,
   "id": "e76631a5",
   "metadata": {},
   "outputs": [
    {
     "data": {
      "text/plain": [
       "'hello, world!'"
      ]
     },
     "execution_count": 36,
     "metadata": {},
     "output_type": "execute_result"
    }
   ],
   "source": [
    "#10.str.lower(): 모든 알파벳을 소문자화\n",
    "text = \"Hello, World!\"\n",
    "\n",
    "lower_text = text.lower()\n",
    "lower_text"
   ]
  },
  {
   "cell_type": "code",
   "execution_count": 37,
   "id": "a97ecac7",
   "metadata": {},
   "outputs": [
    {
     "data": {
      "text/plain": [
       "'HELLO, WORLD!'"
      ]
     },
     "execution_count": 37,
     "metadata": {},
     "output_type": "execute_result"
    }
   ],
   "source": [
    "#11.str.upper(): 모든 알파벳을 대문자화\n",
    "upper_text = text.upper()\n",
    "upper_text"
   ]
  },
  {
   "cell_type": "code",
   "execution_count": 38,
   "id": "bac9e84d",
   "metadata": {},
   "outputs": [
    {
     "data": {
      "text/plain": [
       "0     True\n",
       "1     True\n",
       "2     True\n",
       "3     True\n",
       "4     True\n",
       "      ... \n",
       "81    True\n",
       "82    True\n",
       "83    True\n",
       "84    True\n",
       "85    True\n",
       "Name: comment, Length: 84, dtype: bool"
      ]
     },
     "execution_count": 38,
     "metadata": {},
     "output_type": "execute_result"
    }
   ],
   "source": [
    "#12.str.match(): 문자열이 주어진 정규표현식과 일치하는지를 확인하는 기능\n",
    "survey['comment'].str.match('[가-힇]+')"
   ]
  },
  {
   "cell_type": "code",
   "execution_count": null,
   "id": "668e5175",
   "metadata": {},
   "outputs": [],
   "source": []
  }
 ],
 "metadata": {
  "kernelspec": {
   "display_name": "Python 3 (ipykernel)",
   "language": "python",
   "name": "python3"
  },
  "language_info": {
   "codemirror_mode": {
    "name": "ipython",
    "version": 3
   },
   "file_extension": ".py",
   "mimetype": "text/x-python",
   "name": "python",
   "nbconvert_exporter": "python",
   "pygments_lexer": "ipython3",
   "version": "3.9.13"
  }
 },
 "nbformat": 4,
 "nbformat_minor": 5
}
