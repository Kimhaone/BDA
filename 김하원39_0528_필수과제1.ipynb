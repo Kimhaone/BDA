{
 "cells": [
  {
   "cell_type": "markdown",
   "id": "82e4daf6",
   "metadata": {},
   "source": [
    "### 필수과제 1\n",
    "- prophet에 들어가는 하이퍼파라미터 다 정리해 주시고, 실제 값을 넣어서 예측값이 변화하는 것을 확인하기( 코드 & 주석 필수 )"
   ]
  },
  {
   "cell_type": "markdown",
   "id": "71e102ec",
   "metadata": {},
   "source": [
    "growth: 'linear' 또는 'logistic' 중 하나를 선택 'linear'는 선형적인 성장을 의미하고, 'logistic'은 로지스틱 성장을 의미\n",
    "\n",
    "changepoints: 시계열 데이터에서 추정되는 구간 경계를 나타내는 날짜의 목록 Prophet은 기본적으로 자동으로 변경점을 찾지만, 변경점의 수와 위치를 직접 지정할 수도 있음\n",
    "\n",
    "n_changepoints: 변경점의 수를 지정\n",
    "\n",
    "changepoint_range: 변경점을 추정할 시계열의 일부분을 지정\n",
    "\n",
    "seasonality_mode: 'additive' 또는 'multiplicative' 중 하나를 선택,'additive'는 계절성을 가진 시계열 데이터에 대해 가법 모델을 사용하고, 'multiplicative'는 곱셈 모델을 사용\n",
    "\n",
    "seasonality_prior_scale: 계절성 구성 요소의 변동성에 대한 조절 파라미터, 값이 높을수록 모델은 데이터의 계절성에 더 큰 변동성을 허용\n",
    "\n",
    "holidays_prior_scale: 휴일 구성 요소의 변동성에 대한 조절 파라미터, 값이 높을수록 모델은 휴일 데이터의 변동성에 더 큰 영향\n",
    "\n",
    "seasonality_mode: 시계열 데이터의 계절성 모델을 선택\n",
    "\n",
    "yearly_seasonality: 연간 계절성 구성 요소를 사용할지 여부\n",
    "\n",
    "weekly_seasonality: 주간 계절성 구성 요소를 사용할지 여부\n",
    "\n",
    "daily_seasonality: 일일 계절성 구성 요소를 사용할지 여부"
   ]
  },
  {
   "cell_type": "code",
   "execution_count": 3,
   "id": "70d1392a",
   "metadata": {
    "collapsed": true
   },
   "outputs": [
    {
     "name": "stdout",
     "output_type": "stream",
     "text": [
      "Collecting prophet\n",
      "  Downloading prophet-1.1.4-py3-none-win_amd64.whl (12.9 MB)\n",
      "     --------------------------------------- 12.9/12.9 MB 16.8 MB/s eta 0:00:00\n",
      "Collecting cmdstanpy>=1.0.4\n",
      "  Downloading cmdstanpy-1.1.0-py3-none-any.whl (83 kB)\n",
      "     ---------------------------------------- 83.2/83.2 kB 2.4 MB/s eta 0:00:00\n",
      "Requirement already satisfied: pandas>=1.0.4 in c:\\users\\onlyo\\anaconda3\\lib\\site-packages (from prophet) (1.4.4)\n",
      "Collecting convertdate>=2.1.2\n",
      "  Downloading convertdate-2.4.0-py3-none-any.whl (47 kB)\n",
      "     ---------------------------------------- 47.9/47.9 kB 2.5 MB/s eta 0:00:00\n",
      "Collecting holidays>=0.25\n",
      "  Downloading holidays-0.27.1-py3-none-any.whl (598 kB)\n",
      "     ------------------------------------- 598.5/598.5 kB 39.2 MB/s eta 0:00:00\n",
      "Requirement already satisfied: python-dateutil>=2.8.0 in c:\\users\\onlyo\\anaconda3\\lib\\site-packages (from prophet) (2.8.2)\n",
      "Requirement already satisfied: tqdm>=4.36.1 in c:\\users\\onlyo\\anaconda3\\lib\\site-packages (from prophet) (4.64.1)\n",
      "Requirement already satisfied: numpy>=1.15.4 in c:\\users\\onlyo\\anaconda3\\lib\\site-packages (from prophet) (1.21.5)\n",
      "Requirement already satisfied: matplotlib>=2.0.0 in c:\\users\\onlyo\\anaconda3\\lib\\site-packages (from prophet) (3.5.2)\n",
      "Collecting importlib-resources\n",
      "  Downloading importlib_resources-5.12.0-py3-none-any.whl (36 kB)\n",
      "Collecting LunarCalendar>=0.0.9\n",
      "  Downloading LunarCalendar-0.0.9-py2.py3-none-any.whl (18 kB)\n",
      "Collecting pymeeus<=1,>=0.3.13\n",
      "  Downloading PyMeeus-0.5.12.tar.gz (5.8 MB)\n",
      "     ---------------------------------------- 5.8/5.8 MB 17.5 MB/s eta 0:00:00\n",
      "  Preparing metadata (setup.py): started\n",
      "  Preparing metadata (setup.py): finished with status 'done'\n",
      "Collecting ephem>=3.7.5.3\n",
      "  Downloading ephem-4.1.4-cp39-cp39-win_amd64.whl (1.4 MB)\n",
      "     ---------------------------------------- 1.4/1.4 MB 30.2 MB/s eta 0:00:00\n",
      "Requirement already satisfied: pytz in c:\\users\\onlyo\\anaconda3\\lib\\site-packages (from LunarCalendar>=0.0.9->prophet) (2022.1)\n",
      "Requirement already satisfied: cycler>=0.10 in c:\\users\\onlyo\\anaconda3\\lib\\site-packages (from matplotlib>=2.0.0->prophet) (0.11.0)\n",
      "Requirement already satisfied: pillow>=6.2.0 in c:\\users\\onlyo\\anaconda3\\lib\\site-packages (from matplotlib>=2.0.0->prophet) (9.2.0)\n",
      "Requirement already satisfied: kiwisolver>=1.0.1 in c:\\users\\onlyo\\anaconda3\\lib\\site-packages (from matplotlib>=2.0.0->prophet) (1.4.2)\n",
      "Requirement already satisfied: packaging>=20.0 in c:\\users\\onlyo\\anaconda3\\lib\\site-packages (from matplotlib>=2.0.0->prophet) (21.3)\n",
      "Requirement already satisfied: pyparsing>=2.2.1 in c:\\users\\onlyo\\anaconda3\\lib\\site-packages (from matplotlib>=2.0.0->prophet) (3.0.9)\n",
      "Requirement already satisfied: fonttools>=4.22.0 in c:\\users\\onlyo\\anaconda3\\lib\\site-packages (from matplotlib>=2.0.0->prophet) (4.25.0)\n",
      "Requirement already satisfied: six>=1.5 in c:\\users\\onlyo\\anaconda3\\lib\\site-packages (from python-dateutil>=2.8.0->prophet) (1.16.0)\n",
      "Requirement already satisfied: colorama in c:\\users\\onlyo\\anaconda3\\lib\\site-packages (from tqdm>=4.36.1->prophet) (0.4.5)\n",
      "Requirement already satisfied: zipp>=3.1.0 in c:\\users\\onlyo\\anaconda3\\lib\\site-packages (from importlib-resources->prophet) (3.8.0)\n",
      "Building wheels for collected packages: pymeeus\n",
      "  Building wheel for pymeeus (setup.py): started\n",
      "  Building wheel for pymeeus (setup.py): finished with status 'done'\n",
      "  Created wheel for pymeeus: filename=PyMeeus-0.5.12-py3-none-any.whl size=732001 sha256=90e34fdf2a50fe81d457111103cf8a321a05177d86a6bd2ebba6ea440b71c1d8\n",
      "  Stored in directory: c:\\users\\onlyo\\appdata\\local\\pip\\cache\\wheels\\04\\1f\\e5\\8dd0c661cd8d252817655dc14a84f7ae045d6616594145aa81\n",
      "Successfully built pymeeus\n",
      "Installing collected packages: pymeeus, ephem, importlib-resources, convertdate, LunarCalendar, holidays, cmdstanpy, prophet\n",
      "Successfully installed LunarCalendar-0.0.9 cmdstanpy-1.1.0 convertdate-2.4.0 ephem-4.1.4 holidays-0.27.1 importlib-resources-5.12.0 prophet-1.1.4 pymeeus-0.5.12\n"
     ]
    }
   ],
   "source": [
    "!pip install prophet"
   ]
  },
  {
   "cell_type": "code",
   "execution_count": 7,
   "id": "4f0824f2",
   "metadata": {},
   "outputs": [
    {
     "name": "stdout",
     "output_type": "stream",
     "text": [
      "Collecting plotnine\n",
      "  Using cached plotnine-0.12.1-py3-none-any.whl (1.3 MB)\n",
      "Requirement already satisfied: patsy>=0.5.1 in c:\\users\\onlyo\\anaconda3\\lib\\site-packages (from plotnine) (0.5.2)\n",
      "Collecting pandas>=1.5.0\n",
      "  Using cached pandas-2.0.3-cp39-cp39-win_amd64.whl (10.8 MB)\n",
      "Requirement already satisfied: numpy>=1.23.0 in c:\\users\\onlyo\\anaconda3\\lib\\site-packages (from plotnine) (1.24.4)\n",
      "Collecting matplotlib>=3.6.0\n",
      "  Using cached matplotlib-3.7.1-cp39-cp39-win_amd64.whl (7.6 MB)\n",
      "Requirement already satisfied: scipy>=1.5.0 in c:\\users\\onlyo\\anaconda3\\lib\\site-packages (from plotnine) (1.9.1)\n",
      "Collecting statsmodels>=0.14.0\n",
      "  Using cached statsmodels-0.14.0-cp39-cp39-win_amd64.whl (9.4 MB)\n",
      "Collecting mizani>=0.9.0\n",
      "  Using cached mizani-0.9.2-py3-none-any.whl (73 kB)\n",
      "Requirement already satisfied: importlib-resources>=3.2.0 in c:\\users\\onlyo\\anaconda3\\lib\\site-packages (from matplotlib>=3.6.0->plotnine) (5.12.0)\n",
      "Requirement already satisfied: pillow>=6.2.0 in c:\\users\\onlyo\\anaconda3\\lib\\site-packages (from matplotlib>=3.6.0->plotnine) (9.2.0)\n",
      "Requirement already satisfied: packaging>=20.0 in c:\\users\\onlyo\\anaconda3\\lib\\site-packages (from matplotlib>=3.6.0->plotnine) (21.3)\n",
      "Requirement already satisfied: python-dateutil>=2.7 in c:\\users\\onlyo\\anaconda3\\lib\\site-packages (from matplotlib>=3.6.0->plotnine) (2.8.2)\n",
      "Requirement already satisfied: fonttools>=4.22.0 in c:\\users\\onlyo\\anaconda3\\lib\\site-packages (from matplotlib>=3.6.0->plotnine) (4.25.0)\n",
      "Collecting contourpy>=1.0.1\n",
      "  Using cached contourpy-1.1.0-cp39-cp39-win_amd64.whl (429 kB)\n",
      "Requirement already satisfied: kiwisolver>=1.0.1 in c:\\users\\onlyo\\anaconda3\\lib\\site-packages (from matplotlib>=3.6.0->plotnine) (1.4.2)\n",
      "Requirement already satisfied: pyparsing>=2.3.1 in c:\\users\\onlyo\\anaconda3\\lib\\site-packages (from matplotlib>=3.6.0->plotnine) (3.0.9)\n",
      "Requirement already satisfied: cycler>=0.10 in c:\\users\\onlyo\\anaconda3\\lib\\site-packages (from matplotlib>=3.6.0->plotnine) (0.11.0)\n",
      "Requirement already satisfied: tzdata in c:\\users\\onlyo\\anaconda3\\lib\\site-packages (from mizani>=0.9.0->plotnine) (2023.3)\n",
      "Requirement already satisfied: pytz>=2020.1 in c:\\users\\onlyo\\anaconda3\\lib\\site-packages (from pandas>=1.5.0->plotnine) (2022.1)\n",
      "Requirement already satisfied: six in c:\\users\\onlyo\\anaconda3\\lib\\site-packages (from patsy>=0.5.1->plotnine) (1.16.0)\n",
      "Requirement already satisfied: zipp>=3.1.0 in c:\\users\\onlyo\\anaconda3\\lib\\site-packages (from importlib-resources>=3.2.0->matplotlib>=3.6.0->plotnine) (3.8.0)\n",
      "Installing collected packages: contourpy, pandas, matplotlib, statsmodels, mizani, plotnine\n",
      "  Attempting uninstall: pandas\n",
      "    Found existing installation: pandas 1.4.4\n",
      "    Uninstalling pandas-1.4.4:\n",
      "      Successfully uninstalled pandas-1.4.4\n"
     ]
    },
    {
     "name": "stderr",
     "output_type": "stream",
     "text": [
      "ERROR: Could not install packages due to an OSError: [WinError 5] 액세스가 거부되었습니다: 'C:\\\\Users\\\\onlyo\\\\anaconda3\\\\Lib\\\\site-packages\\\\~andas\\\\_libs\\\\algos.cp39-win_amd64.pyd'\n",
      "Consider using the `--user` option or check the permissions.\n",
      "\n"
     ]
    }
   ],
   "source": [
    "!pip install plotnine"
   ]
  },
  {
   "cell_type": "code",
   "execution_count": 10,
   "id": "3074159f",
   "metadata": {},
   "outputs": [
    {
     "name": "stdout",
     "output_type": "stream",
     "text": [
      "Collecting git+https://github.com/has2k1/plotnine"
     ]
    },
    {
     "name": "stderr",
     "output_type": "stream",
     "text": [
      "  ERROR: Error [WinError 2] 지정된 파일을 찾을 수 없습니다 while executing command git version\n",
      "ERROR: Cannot find command 'git' - do you have 'git' installed and in your PATH?\n"
     ]
    },
    {
     "name": "stdout",
     "output_type": "stream",
     "text": [
      "\n",
      "  Cloning https://github.com/has2k1/plotnine to c:\\users\\onlyo\\appdata\\local\\temp\\pip-req-build-fe2u263v\n"
     ]
    }
   ],
   "source": [
    "!pip install git+https://github.com/has2k1/plotnine"
   ]
  },
  {
   "cell_type": "code",
   "execution_count": 11,
   "id": "b6662d2c",
   "metadata": {},
   "outputs": [
    {
     "ename": "ModuleNotFoundError",
     "evalue": "No module named 'plotnine'",
     "output_type": "error",
     "traceback": [
      "\u001b[1;31m---------------------------------------------------------------------------\u001b[0m",
      "\u001b[1;31mModuleNotFoundError\u001b[0m                       Traceback (most recent call last)",
      "\u001b[1;32m~\\AppData\\Local\\Temp\\ipykernel_8376\\2027183097.py\u001b[0m in \u001b[0;36m<module>\u001b[1;34m\u001b[0m\n\u001b[0;32m     16\u001b[0m \u001b[1;32mimport\u001b[0m \u001b[0mmatplotlib\u001b[0m\u001b[1;33m.\u001b[0m\u001b[0mdates\u001b[0m \u001b[1;32mas\u001b[0m \u001b[0mmdates\u001b[0m\u001b[1;33m\u001b[0m\u001b[1;33m\u001b[0m\u001b[0m\n\u001b[0;32m     17\u001b[0m \u001b[1;32mimport\u001b[0m \u001b[0mpandas\u001b[0m \u001b[1;32mas\u001b[0m \u001b[0mpd\u001b[0m\u001b[1;33m\u001b[0m\u001b[1;33m\u001b[0m\u001b[0m\n\u001b[1;32m---> 18\u001b[1;33m \u001b[1;32mfrom\u001b[0m \u001b[0mplotnine\u001b[0m \u001b[1;32mimport\u001b[0m \u001b[1;33m*\u001b[0m\u001b[1;33m\u001b[0m\u001b[1;33m\u001b[0m\u001b[0m\n\u001b[0m\u001b[0;32m     19\u001b[0m \u001b[1;32mimport\u001b[0m \u001b[0mio\u001b[0m\u001b[1;33m\u001b[0m\u001b[1;33m\u001b[0m\u001b[0m\n\u001b[0;32m     20\u001b[0m \u001b[1;31m#to predictive A\u001b[0m\u001b[1;33m\u001b[0m\u001b[1;33m\u001b[0m\u001b[0m\n",
      "\u001b[1;31mModuleNotFoundError\u001b[0m: No module named 'plotnine'"
     ]
    }
   ],
   "source": [
    "import numpy as np \n",
    "from prophet import Prophet\n",
    "from prophet.plot import plot_plotly, plot_components_plotly\n",
    "from prophet.diagnostics import cross_validation\n",
    "from prophet.diagnostics import performance_metrics\n",
    "import warnings\n",
    "warnings.filterwarnings('ignore')  \n",
    "warnings.simplefilter(action = \"ignore\", category = RuntimeWarning)\n",
    "import datetime as dt\n",
    "import pandas as pd\n",
    "pd.core.common.is_list_like = pd.api.types.is_list_like\n",
    "#import pandas_datareader.data as web\n",
    "import numpy as np\n",
    "import matplotlib.pyplot as plt\n",
    "import seaborn as sns\n",
    "import matplotlib.dates as mdates\n",
    "import pandas as pd\n",
    "from plotnine import *\n",
    "import io\n",
    "#to predictive A\n",
    "import statistics as st\n",
    "%matplotlib inline\n",
    "import matplotlib.dates as mdates\n",
    "from pandas import DataFrame\n",
    "from pandas import to_datetime\n",
    "from statsmodels.tsa.stattools import kpss\n",
    "from statsmodels.tsa.stattools import adfuller\n",
    "from  sklearn.metrics import mean_absolute_error"
   ]
  },
  {
   "cell_type": "code",
   "execution_count": null,
   "id": "e9839ffa",
   "metadata": {},
   "outputs": [],
   "source": []
  }
 ],
 "metadata": {
  "kernelspec": {
   "display_name": "Python 3 (ipykernel)",
   "language": "python",
   "name": "python3"
  },
  "language_info": {
   "codemirror_mode": {
    "name": "ipython",
    "version": 3
   },
   "file_extension": ".py",
   "mimetype": "text/x-python",
   "name": "python",
   "nbconvert_exporter": "python",
   "pygments_lexer": "ipython3",
   "version": "3.9.13"
  }
 },
 "nbformat": 4,
 "nbformat_minor": 5
}
