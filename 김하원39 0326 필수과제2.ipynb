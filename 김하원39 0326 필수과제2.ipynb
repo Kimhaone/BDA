{
 "cells": [
  {
   "cell_type": "code",
   "execution_count": 32,
   "id": "ad18f830",
   "metadata": {},
   "outputs": [],
   "source": [
    "import pandas as pd\n",
    "\n",
    "bike = pd.read_csv('bike.csv', encoding = 'cp949')\n",
    "rain = pd.read_csv('rain.csv', encoding = 'cp949')"
   ]
  },
  {
   "cell_type": "code",
   "execution_count": 33,
   "id": "282c3de1",
   "metadata": {},
   "outputs": [
    {
     "data": {
      "text/plain": [
       "대여일시           32\n",
       "대여건수           32\n",
       "Unnamed: 2    213\n",
       "Unnamed: 3    213\n",
       "Unnamed: 4    213\n",
       "Unnamed: 5    213\n",
       "dtype: int64"
      ]
     },
     "execution_count": 33,
     "metadata": {},
     "output_type": "execute_result"
    }
   ],
   "source": [
    "bike.isna().sum()"
   ]
  },
  {
   "cell_type": "code",
   "execution_count": 45,
   "id": "251cbbe5",
   "metadata": {},
   "outputs": [
    {
     "data": {
      "text/html": [
       "<div>\n",
       "<style scoped>\n",
       "    .dataframe tbody tr th:only-of-type {\n",
       "        vertical-align: middle;\n",
       "    }\n",
       "\n",
       "    .dataframe tbody tr th {\n",
       "        vertical-align: top;\n",
       "    }\n",
       "\n",
       "    .dataframe thead th {\n",
       "        text-align: right;\n",
       "    }\n",
       "</style>\n",
       "<table border=\"1\" class=\"dataframe\">\n",
       "  <thead>\n",
       "    <tr style=\"text-align: right;\">\n",
       "      <th></th>\n",
       "      <th>대여일시</th>\n",
       "      <th>대여건수</th>\n",
       "    </tr>\n",
       "  </thead>\n",
       "  <tbody>\n",
       "    <tr>\n",
       "      <th>0</th>\n",
       "      <td>2022-01-01</td>\n",
       "      <td>29,185</td>\n",
       "    </tr>\n",
       "    <tr>\n",
       "      <th>1</th>\n",
       "      <td>2022-01-02</td>\n",
       "      <td>28,914</td>\n",
       "    </tr>\n",
       "    <tr>\n",
       "      <th>2</th>\n",
       "      <td>2022-01-03</td>\n",
       "      <td>53,573</td>\n",
       "    </tr>\n",
       "    <tr>\n",
       "      <th>3</th>\n",
       "      <td>2022-01-04</td>\n",
       "      <td>56,344</td>\n",
       "    </tr>\n",
       "    <tr>\n",
       "      <th>4</th>\n",
       "      <td>2022-01-05</td>\n",
       "      <td>57,413</td>\n",
       "    </tr>\n",
       "    <tr>\n",
       "      <th>...</th>\n",
       "      <td>...</td>\n",
       "      <td>...</td>\n",
       "    </tr>\n",
       "    <tr>\n",
       "      <th>176</th>\n",
       "      <td>2022-06-26</td>\n",
       "      <td>122,474</td>\n",
       "    </tr>\n",
       "    <tr>\n",
       "      <th>177</th>\n",
       "      <td>2022-06-27</td>\n",
       "      <td>94,761</td>\n",
       "    </tr>\n",
       "    <tr>\n",
       "      <th>178</th>\n",
       "      <td>2022-06-28</td>\n",
       "      <td>112,003</td>\n",
       "    </tr>\n",
       "    <tr>\n",
       "      <th>179</th>\n",
       "      <td>2022-06-29</td>\n",
       "      <td>52,664</td>\n",
       "    </tr>\n",
       "    <tr>\n",
       "      <th>180</th>\n",
       "      <td>2022-06-30</td>\n",
       "      <td>8,796</td>\n",
       "    </tr>\n",
       "  </tbody>\n",
       "</table>\n",
       "<p>181 rows × 2 columns</p>\n",
       "</div>"
      ],
      "text/plain": [
       "           대여일시       대여건수\n",
       "0    2022-01-01    29,185 \n",
       "1    2022-01-02    28,914 \n",
       "2    2022-01-03    53,573 \n",
       "3    2022-01-04    56,344 \n",
       "4    2022-01-05    57,413 \n",
       "..          ...        ...\n",
       "176  2022-06-26   122,474 \n",
       "177  2022-06-27    94,761 \n",
       "178  2022-06-28   112,003 \n",
       "179  2022-06-29    52,664 \n",
       "180  2022-06-30     8,796 \n",
       "\n",
       "[181 rows x 2 columns]"
      ]
     },
     "execution_count": 45,
     "metadata": {},
     "output_type": "execute_result"
    }
   ],
   "source": [
    "bike1 = bike.iloc[:181]\n",
    "bike1 = bike1[['대여일시','대여건수']]\n",
    "bike1 "
   ]
  },
  {
   "cell_type": "code",
   "execution_count": 35,
   "id": "19f8c8d1",
   "metadata": {},
   "outputs": [
    {
     "data": {
      "text/plain": [
       "날짜           0\n",
       "지점           0\n",
       "강수량(mm)    117\n",
       "dtype: int64"
      ]
     },
     "execution_count": 35,
     "metadata": {},
     "output_type": "execute_result"
    }
   ],
   "source": [
    "rain.isna().sum()"
   ]
  },
  {
   "cell_type": "code",
   "execution_count": 36,
   "id": "2665afa9",
   "metadata": {},
   "outputs": [
    {
     "data": {
      "text/html": [
       "<div>\n",
       "<style scoped>\n",
       "    .dataframe tbody tr th:only-of-type {\n",
       "        vertical-align: middle;\n",
       "    }\n",
       "\n",
       "    .dataframe tbody tr th {\n",
       "        vertical-align: top;\n",
       "    }\n",
       "\n",
       "    .dataframe thead th {\n",
       "        text-align: right;\n",
       "    }\n",
       "</style>\n",
       "<table border=\"1\" class=\"dataframe\">\n",
       "  <thead>\n",
       "    <tr style=\"text-align: right;\">\n",
       "      <th></th>\n",
       "      <th>날짜</th>\n",
       "      <th>지점</th>\n",
       "      <th>강수량(mm)</th>\n",
       "    </tr>\n",
       "  </thead>\n",
       "  <tbody>\n",
       "    <tr>\n",
       "      <th>0</th>\n",
       "      <td>2022-01-01</td>\n",
       "      <td>108</td>\n",
       "      <td>NaN</td>\n",
       "    </tr>\n",
       "    <tr>\n",
       "      <th>1</th>\n",
       "      <td>2022-01-02</td>\n",
       "      <td>108</td>\n",
       "      <td>0.3</td>\n",
       "    </tr>\n",
       "    <tr>\n",
       "      <th>2</th>\n",
       "      <td>2022-01-03</td>\n",
       "      <td>108</td>\n",
       "      <td>0.0</td>\n",
       "    </tr>\n",
       "    <tr>\n",
       "      <th>3</th>\n",
       "      <td>2022-01-04</td>\n",
       "      <td>108</td>\n",
       "      <td>0.0</td>\n",
       "    </tr>\n",
       "    <tr>\n",
       "      <th>4</th>\n",
       "      <td>2022-01-05</td>\n",
       "      <td>108</td>\n",
       "      <td>NaN</td>\n",
       "    </tr>\n",
       "    <tr>\n",
       "      <th>...</th>\n",
       "      <td>...</td>\n",
       "      <td>...</td>\n",
       "      <td>...</td>\n",
       "    </tr>\n",
       "    <tr>\n",
       "      <th>176</th>\n",
       "      <td>2022-06-26</td>\n",
       "      <td>108</td>\n",
       "      <td>NaN</td>\n",
       "    </tr>\n",
       "    <tr>\n",
       "      <th>177</th>\n",
       "      <td>2022-06-27</td>\n",
       "      <td>108</td>\n",
       "      <td>6.1</td>\n",
       "    </tr>\n",
       "    <tr>\n",
       "      <th>178</th>\n",
       "      <td>2022-06-28</td>\n",
       "      <td>108</td>\n",
       "      <td>6.3</td>\n",
       "    </tr>\n",
       "    <tr>\n",
       "      <th>179</th>\n",
       "      <td>2022-06-29</td>\n",
       "      <td>108</td>\n",
       "      <td>37.8</td>\n",
       "    </tr>\n",
       "    <tr>\n",
       "      <th>180</th>\n",
       "      <td>2022-06-30</td>\n",
       "      <td>108</td>\n",
       "      <td>176.2</td>\n",
       "    </tr>\n",
       "  </tbody>\n",
       "</table>\n",
       "<p>181 rows × 3 columns</p>\n",
       "</div>"
      ],
      "text/plain": [
       "             날짜   지점  강수량(mm)\n",
       "0    2022-01-01  108      NaN\n",
       "1    2022-01-02  108      0.3\n",
       "2    2022-01-03  108      0.0\n",
       "3    2022-01-04  108      0.0\n",
       "4    2022-01-05  108      NaN\n",
       "..          ...  ...      ...\n",
       "176  2022-06-26  108      NaN\n",
       "177  2022-06-27  108      6.1\n",
       "178  2022-06-28  108      6.3\n",
       "179  2022-06-29  108     37.8\n",
       "180  2022-06-30  108    176.2\n",
       "\n",
       "[181 rows x 3 columns]"
      ]
     },
     "execution_count": 36,
     "metadata": {},
     "output_type": "execute_result"
    }
   ],
   "source": [
    "rain"
   ]
  },
  {
   "cell_type": "code",
   "execution_count": 37,
   "id": "67f3ee5d",
   "metadata": {},
   "outputs": [
    {
     "data": {
      "text/plain": [
       "<AxesSubplot:>"
      ]
     },
     "execution_count": 37,
     "metadata": {},
     "output_type": "execute_result"
    },
    {
     "data": {
      "image/png": "[encoded data removed]",
      "text/plain": [
       "<Figure size 640x480 with 1 Axes>"
      ]
     },
     "metadata": {},
     "output_type": "display_data"
    }
   ],
   "source": [
    "#결측값을 0으로 지정했을 때\n",
    "rain['강수량(mm)'] = rain['강수량(mm)'].fillna(0)\n",
    "\n",
    "rain['강수량(mm)'].plot()"
   ]
  },
  {
   "cell_type": "code",
   "execution_count": 15,
   "id": "1911b6dd",
   "metadata": {
    "scrolled": true
   },
   "outputs": [
    {
     "data": {
      "text/plain": [
       "<AxesSubplot:>"
      ]
     },
     "execution_count": 15,
     "metadata": {},
     "output_type": "execute_result"
    },
    {
     "data": {
      "image/png": "[encoded data removed]",
      "text/plain": [
       "<Figure size 640x480 with 1 Axes>"
      ]
     },
     "metadata": {},
     "output_type": "display_data"
    }
   ],
   "source": [
    "#보간법으로 실시했을 떄\n",
    "rain['강수량(mm)'] = rain.interpolate()['강수량(mm)']\n",
    "rain.interpolate()['강수량(mm)'].plot()"
   ]
  },
  {
   "cell_type": "markdown",
   "id": "31e51f8b",
   "metadata": {},
   "source": [
    "#### 결측치를 0으로 지정했을 때, 더 안정적인 모습이므로 결측치 처리는 0으로 진행"
   ]
  },
  {
   "cell_type": "markdown",
   "id": "b1407c14",
   "metadata": {},
   "source": [
    "# 가설\n",
    "\n",
    "## 2022년 1월~6월 간 서울에서 강수량이 관측된 날엔 따릉이의 대여량이 관측되지 않은 날보다 적을 것이다."
   ]
  },
  {
   "cell_type": "code",
   "execution_count": 91,
   "id": "90c10dfd",
   "metadata": {},
   "outputs": [
    {
     "data": {
      "text/html": [
       "<div>\n",
       "<style scoped>\n",
       "    .dataframe tbody tr th:only-of-type {\n",
       "        vertical-align: middle;\n",
       "    }\n",
       "\n",
       "    .dataframe tbody tr th {\n",
       "        vertical-align: top;\n",
       "    }\n",
       "\n",
       "    .dataframe thead th {\n",
       "        text-align: right;\n",
       "    }\n",
       "</style>\n",
       "<table border=\"1\" class=\"dataframe\">\n",
       "  <thead>\n",
       "    <tr style=\"text-align: right;\">\n",
       "      <th></th>\n",
       "      <th>대여일시</th>\n",
       "      <th>대여건수</th>\n",
       "      <th>강수량(mm)</th>\n",
       "    </tr>\n",
       "  </thead>\n",
       "  <tbody>\n",
       "    <tr>\n",
       "      <th>0</th>\n",
       "      <td>2022-01-01</td>\n",
       "      <td>29,185</td>\n",
       "      <td>0.0</td>\n",
       "    </tr>\n",
       "    <tr>\n",
       "      <th>1</th>\n",
       "      <td>2022-01-02</td>\n",
       "      <td>28,914</td>\n",
       "      <td>0.3</td>\n",
       "    </tr>\n",
       "    <tr>\n",
       "      <th>2</th>\n",
       "      <td>2022-01-03</td>\n",
       "      <td>53,573</td>\n",
       "      <td>0.0</td>\n",
       "    </tr>\n",
       "    <tr>\n",
       "      <th>3</th>\n",
       "      <td>2022-01-04</td>\n",
       "      <td>56,344</td>\n",
       "      <td>0.0</td>\n",
       "    </tr>\n",
       "    <tr>\n",
       "      <th>4</th>\n",
       "      <td>2022-01-05</td>\n",
       "      <td>57,413</td>\n",
       "      <td>0.0</td>\n",
       "    </tr>\n",
       "    <tr>\n",
       "      <th>5</th>\n",
       "      <td>2022-01-06</td>\n",
       "      <td>59,714</td>\n",
       "      <td>0.0</td>\n",
       "    </tr>\n",
       "    <tr>\n",
       "      <th>6</th>\n",
       "      <td>2022-01-07</td>\n",
       "      <td>60,422</td>\n",
       "      <td>0.0</td>\n",
       "    </tr>\n",
       "    <tr>\n",
       "      <th>7</th>\n",
       "      <td>2022-01-08</td>\n",
       "      <td>45,366</td>\n",
       "      <td>0.0</td>\n",
       "    </tr>\n",
       "    <tr>\n",
       "      <th>8</th>\n",
       "      <td>2022-01-09</td>\n",
       "      <td>38,304</td>\n",
       "      <td>0.0</td>\n",
       "    </tr>\n",
       "    <tr>\n",
       "      <th>9</th>\n",
       "      <td>2022-01-10</td>\n",
       "      <td>58,706</td>\n",
       "      <td>0.9</td>\n",
       "    </tr>\n",
       "    <tr>\n",
       "      <th>10</th>\n",
       "      <td>2022-01-11</td>\n",
       "      <td>39,715</td>\n",
       "      <td>0.2</td>\n",
       "    </tr>\n",
       "    <tr>\n",
       "      <th>11</th>\n",
       "      <td>2022-01-12</td>\n",
       "      <td>45,304</td>\n",
       "      <td>0.0</td>\n",
       "    </tr>\n",
       "    <tr>\n",
       "      <th>12</th>\n",
       "      <td>2022-01-13</td>\n",
       "      <td>43,881</td>\n",
       "      <td>0.0</td>\n",
       "    </tr>\n",
       "    <tr>\n",
       "      <th>13</th>\n",
       "      <td>2022-01-14</td>\n",
       "      <td>50,087</td>\n",
       "      <td>0.0</td>\n",
       "    </tr>\n",
       "    <tr>\n",
       "      <th>14</th>\n",
       "      <td>2022-01-15</td>\n",
       "      <td>41,820</td>\n",
       "      <td>0.0</td>\n",
       "    </tr>\n",
       "    <tr>\n",
       "      <th>15</th>\n",
       "      <td>2022-01-16</td>\n",
       "      <td>32,433</td>\n",
       "      <td>0.0</td>\n",
       "    </tr>\n",
       "    <tr>\n",
       "      <th>16</th>\n",
       "      <td>2022-01-17</td>\n",
       "      <td>36,605</td>\n",
       "      <td>0.5</td>\n",
       "    </tr>\n",
       "    <tr>\n",
       "      <th>17</th>\n",
       "      <td>2022-01-18</td>\n",
       "      <td>46,018</td>\n",
       "      <td>0.0</td>\n",
       "    </tr>\n",
       "    <tr>\n",
       "      <th>18</th>\n",
       "      <td>2022-01-19</td>\n",
       "      <td>27,105</td>\n",
       "      <td>1.7</td>\n",
       "    </tr>\n",
       "    <tr>\n",
       "      <th>19</th>\n",
       "      <td>2022-01-20</td>\n",
       "      <td>41,568</td>\n",
       "      <td>0.0</td>\n",
       "    </tr>\n",
       "    <tr>\n",
       "      <th>20</th>\n",
       "      <td>2022-01-21</td>\n",
       "      <td>51,219</td>\n",
       "      <td>0.0</td>\n",
       "    </tr>\n",
       "    <tr>\n",
       "      <th>21</th>\n",
       "      <td>2022-01-22</td>\n",
       "      <td>44,304</td>\n",
       "      <td>0.0</td>\n",
       "    </tr>\n",
       "    <tr>\n",
       "      <th>22</th>\n",
       "      <td>2022-01-23</td>\n",
       "      <td>41,704</td>\n",
       "      <td>0.0</td>\n",
       "    </tr>\n",
       "    <tr>\n",
       "      <th>23</th>\n",
       "      <td>2022-01-24</td>\n",
       "      <td>63,894</td>\n",
       "      <td>0.0</td>\n",
       "    </tr>\n",
       "    <tr>\n",
       "      <th>24</th>\n",
       "      <td>2022-01-25</td>\n",
       "      <td>47,991</td>\n",
       "      <td>0.7</td>\n",
       "    </tr>\n",
       "    <tr>\n",
       "      <th>25</th>\n",
       "      <td>2022-01-26</td>\n",
       "      <td>63,246</td>\n",
       "      <td>0.0</td>\n",
       "    </tr>\n",
       "    <tr>\n",
       "      <th>26</th>\n",
       "      <td>2022-01-27</td>\n",
       "      <td>59,413</td>\n",
       "      <td>0.0</td>\n",
       "    </tr>\n",
       "    <tr>\n",
       "      <th>27</th>\n",
       "      <td>2022-01-28</td>\n",
       "      <td>56,150</td>\n",
       "      <td>0.0</td>\n",
       "    </tr>\n",
       "    <tr>\n",
       "      <th>28</th>\n",
       "      <td>2022-01-29</td>\n",
       "      <td>38,024</td>\n",
       "      <td>0.0</td>\n",
       "    </tr>\n",
       "    <tr>\n",
       "      <th>29</th>\n",
       "      <td>2022-01-30</td>\n",
       "      <td>31,891</td>\n",
       "      <td>0.0</td>\n",
       "    </tr>\n",
       "    <tr>\n",
       "      <th>30</th>\n",
       "      <td>2022-01-31</td>\n",
       "      <td>29,553</td>\n",
       "      <td>1.2</td>\n",
       "    </tr>\n",
       "  </tbody>\n",
       "</table>\n",
       "</div>"
      ],
      "text/plain": [
       "          대여일시      대여건수  강수량(mm)\n",
       "0   2022-01-01   29,185       0.0\n",
       "1   2022-01-02   28,914       0.3\n",
       "2   2022-01-03   53,573       0.0\n",
       "3   2022-01-04   56,344       0.0\n",
       "4   2022-01-05   57,413       0.0\n",
       "5   2022-01-06   59,714       0.0\n",
       "6   2022-01-07   60,422       0.0\n",
       "7   2022-01-08   45,366       0.0\n",
       "8   2022-01-09   38,304       0.0\n",
       "9   2022-01-10   58,706       0.9\n",
       "10  2022-01-11   39,715       0.2\n",
       "11  2022-01-12   45,304       0.0\n",
       "12  2022-01-13   43,881       0.0\n",
       "13  2022-01-14   50,087       0.0\n",
       "14  2022-01-15   41,820       0.0\n",
       "15  2022-01-16   32,433       0.0\n",
       "16  2022-01-17   36,605       0.5\n",
       "17  2022-01-18   46,018       0.0\n",
       "18  2022-01-19   27,105       1.7\n",
       "19  2022-01-20   41,568       0.0\n",
       "20  2022-01-21   51,219       0.0\n",
       "21  2022-01-22   44,304       0.0\n",
       "22  2022-01-23   41,704       0.0\n",
       "23  2022-01-24   63,894       0.0\n",
       "24  2022-01-25   47,991       0.7\n",
       "25  2022-01-26   63,246       0.0\n",
       "26  2022-01-27   59,413       0.0\n",
       "27  2022-01-28   56,150       0.0\n",
       "28  2022-01-29   38,024       0.0\n",
       "29  2022-01-30   31,891       0.0\n",
       "30  2022-01-31   29,553       1.2"
      ]
     },
     "execution_count": 91,
     "metadata": {},
     "output_type": "execute_result"
    }
   ],
   "source": [
    "df1 = pd.concat([bike1, rain], axis=1)\n",
    "df1 = df1.drop(['날짜', '지점'], axis=1)\n",
    "df_1m = df1[:31]\n",
    "df_2m = df1[31:59]\n",
    "df_3m = df1[59:90]\n",
    "df_4m = df1[90:120]\n",
    "df_5m = df1[120:151]\n",
    "df_6m = df1[151:]\n",
    "\n",
    "df_1m"
   ]
  },
  {
   "cell_type": "markdown",
   "id": "f9e5873e",
   "metadata": {},
   "source": []
  },
  {
   "cell_type": "code",
   "execution_count": 108,
   "id": "f179a06a",
   "metadata": {},
   "outputs": [
    {
     "data": {
      "text/plain": [
       "<BarContainer object of 31 artists>"
      ]
     },
     "execution_count": 108,
     "metadata": {},
     "output_type": "execute_result"
    },
    {
     "data": {
      "image/png": "[encoded data removed]",
      "text/plain": [
       "<Figure size 1000x1000 with 1 Axes>"
      ]
     },
     "metadata": {},
     "output_type": "display_data"
    }
   ],
   "source": [
    "import matplotlib.pyplot as plt\n",
    "import seaborn as sns\n",
    "\n",
    "x = np.arange()\n",
    "\n",
    "plt.figure(figsize = (10,10))\n",
    "plt.bar(df_1m['강수량(mm)'],  df_1m['대여건수'])"
   ]
  },
  {
   "cell_type": "markdown",
   "id": "953ef6d5",
   "metadata": {},
   "source": [
    "# 바그래프가 계속 오류가 나서 시각화는 완벽하게 끝내지 못했습니다ㅠㅠ"
   ]
  },
  {
   "cell_type": "code",
   "execution_count": null,
   "id": "74a60d2d",
   "metadata": {},
   "outputs": [],
   "source": []
  }
 ],
 "metadata": {
  "kernelspec": {
   "display_name": "Python 3 (ipykernel)",
   "language": "python",
   "name": "python3"
  },
  "language_info": {
   "codemirror_mode": {
    "name": "ipython",
    "version": 3
   },
   "file_extension": ".py",
   "mimetype": "text/x-python",
   "name": "python",
   "nbconvert_exporter": "python",
   "pygments_lexer": "ipython3",
   "version": "3.9.13"
  }
 },
 "nbformat": 4,
 "nbformat_minor": 5
}
