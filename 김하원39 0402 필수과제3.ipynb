{
 "cells": [
  {
   "cell_type": "markdown",
   "id": "5ed6262d",
   "metadata": {},
   "source": [
    "# character\tdescription\n",
    "\n",
    "'.'\tpoint marker\n",
    "\n",
    "','\tpixel marker\n",
    "\n",
    "'o'\tcircle marker\n",
    "\n",
    "'v'\ttriangle_down marker\n",
    "\n",
    "'^'\ttriangle_up marker\n",
    "\n",
    "'<'\ttriangle_left marker\n",
    "\n",
    "'>'\ttriangle_right marker\n",
    "\n",
    "'1'\ttri_down marker\n",
    "\n",
    "'2'\ttri_up marker\n",
    "\n",
    "'3'\ttri_left marker\n",
    "\n",
    "'4'\ttri_right marker\n",
    "\n",
    "'s'\tsquare marker\n",
    "\n",
    "'p'\tpentagon marker\n",
    "\n",
    "'*'\tstar marker\n",
    "\n",
    "'h'\thexagon1 marker\n",
    "\n",
    "'H'\thexagon2 marker\n",
    "\n",
    "'+'\tplus marker\n",
    "\n",
    "'x'\tx marker\n",
    "\n",
    "'D'\tdiamond marker\n",
    "\n",
    "'d'\tthin_diamond marker\n",
    "\n",
    "'|'\tvline marker\n",
    "\n",
    "'_'\thline marker"
   ]
  },
  {
   "cell_type": "code",
   "execution_count": null,
   "id": "cc4b7ff7",
   "metadata": {},
   "outputs": [],
   "source": []
  }
 ],
 "metadata": {
  "kernelspec": {
   "display_name": "Python 3 (ipykernel)",
   "language": "python",
   "name": "python3"
  },
  "language_info": {
   "codemirror_mode": {
    "name": "ipython",
    "version": 3
   },
   "file_extension": ".py",
   "mimetype": "text/x-python",
   "name": "python",
   "nbconvert_exporter": "python",
   "pygments_lexer": "ipython3",
   "version": "3.9.13"
  }
 },
 "nbformat": 4,
 "nbformat_minor": 5
}
