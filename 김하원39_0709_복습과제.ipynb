{
 "cells": [
  {
   "cell_type": "markdown",
   "id": "dd23ca58",
   "metadata": {},
   "source": [
    "# 문자열 데이터-정규 표현식\n",
    "- 복잡, 다양한 문자열에서 필요한 문자와 패턴을 추출할 수 있음\n",
    "- match: 문자열의 처음부터 정규식과 매치되는지 조사\n",
    "- serch: 문자열 전체를 검색하여 정규식과 매치되는지 조사"
   ]
  },
  {
   "cell_type": "markdown",
   "id": "3db6e72a",
   "metadata": {},
   "source": [
    "## 패턴을 만들기 위한 여러가지 특수문자들이 존재\n",
    "- 숫자 패턴: [0-9]\n",
    "- 문자{개수}, 문자열{개수}"
   ]
  },
  {
   "cell_type": "code",
   "execution_count": 3,
   "id": "1b87adf7",
   "metadata": {},
   "outputs": [],
   "source": [
    "import re"
   ]
  },
  {
   "cell_type": "code",
   "execution_count": 12,
   "id": "4974a70a",
   "metadata": {},
   "outputs": [
    {
     "data": {
      "text/plain": [
       "<re.Match object; span=(0, 1), match='1'>"
      ]
     },
     "execution_count": 12,
     "metadata": {},
     "output_type": "execute_result"
    }
   ],
   "source": [
    "re.search('[0-9]','1,2,3,4,5')"
   ]
  },
  {
   "cell_type": "markdown",
   "id": "a4e9a61a",
   "metadata": {},
   "source": [
    "- 패턴을 확장하기 위해 사용하는 특수문자: *, +"
   ]
  },
  {
   "cell_type": "code",
   "execution_count": 13,
   "id": "02541889",
   "metadata": {},
   "outputs": [
    {
     "data": {
      "text/plain": [
       "<re.Match object; span=(0, 1), match='1'>"
      ]
     },
     "execution_count": 13,
     "metadata": {},
     "output_type": "execute_result"
    }
   ],
   "source": [
    "re.search('[0-9]*','1,2,3,4,5')"
   ]
  },
  {
   "cell_type": "code",
   "execution_count": 14,
   "id": "a503202c",
   "metadata": {},
   "outputs": [
    {
     "data": {
      "text/plain": [
       "<re.Match object; span=(0, 1), match='1'>"
      ]
     },
     "execution_count": 14,
     "metadata": {},
     "output_type": "execute_result"
    }
   ],
   "source": [
    "re.search('[0-9]+','1,2,3,4,5')"
   ]
  },
  {
   "cell_type": "code",
   "execution_count": 15,
   "id": "a125693b",
   "metadata": {},
   "outputs": [
    {
     "data": {
      "text/plain": [
       "<re.Match object; span=(0, 5), match='aaaaa'>"
      ]
     },
     "execution_count": 15,
     "metadata": {},
     "output_type": "execute_result"
    }
   ],
   "source": [
    "re.match('a{5}', 'aaaaaa10')"
   ]
  },
  {
   "cell_type": "code",
   "execution_count": 16,
   "id": "37f008d1",
   "metadata": {},
   "outputs": [
    {
     "data": {
      "text/plain": [
       "<re.Match object; span=(0, 10), match='hihihihihi'>"
      ]
     },
     "execution_count": 16,
     "metadata": {},
     "output_type": "execute_result"
    }
   ],
   "source": [
    "re.match('(hi){5}','hihihihihi1234')"
   ]
  },
  {
   "cell_type": "markdown",
   "id": "51604410",
   "metadata": {},
   "source": [
    "## 전화번호 패턴\n",
    "- 000-0000-0000\n",
    "- 모든숫자(3개) - 모든숫자(4개) - 모든숫자(4개)"
   ]
  },
  {
   "cell_type": "code",
   "execution_count": 17,
   "id": "57bf855b",
   "metadata": {},
   "outputs": [
    {
     "data": {
      "text/plain": [
       "<re.Match object; span=(0, 13), match='010-1234-5678'>"
      ]
     },
     "execution_count": 17,
     "metadata": {},
     "output_type": "execute_result"
    }
   ],
   "source": [
    "re.match('[0-9]{3}-[0-9]{4}-[0-9]{4}', '010-1234-5678')"
   ]
  },
  {
   "cell_type": "code",
   "execution_count": 18,
   "id": "d7bd1bb2",
   "metadata": {},
   "outputs": [
    {
     "data": {
      "text/plain": [
       "<re.Match object; span=(0, 13), match='010-1234-5678'>"
      ]
     },
     "execution_count": 18,
     "metadata": {},
     "output_type": "execute_result"
    }
   ],
   "source": [
    "re.match('[0-9]*-[0-9]*-[0-9]*', '010-1234-5678')"
   ]
  },
  {
   "cell_type": "markdown",
   "id": "acc697d9",
   "metadata": {},
   "source": [
    "## 문자\n",
    "\n",
    "### 알파벳\n",
    "- a-z : 모든 알파벳 소문자\n",
    "- A-Z : 모든 알파벳 대문자\n",
    "- A-z : 모든 알파벳\n",
    "\n",
    "### 한글\n",
    "- 가-힣 : 모든 한글\n",
    "- ㄱ-ㅎ\n",
    "- ㅏ-ㅣ\n",
    "\n",
    "### 특수문자\n",
    "- 앞에 \\\n",
    "- /d : 모든 숫자\n",
    "- /D : 모든 숫자를 제외\n",
    "- not [^0-9] 모든 문자를 제외한 것\n",
    "- \\w [a-zA-Z0-9_] 영문, 대소문자, 숫자. 밑줄 문자\n",
    "- \\W [^a-zA-Z0-9_] 위에 \\W를 제외한 나머지 다\n",
    "- 공백 처리하기\n",
    "- \\s 또는 \\S"
   ]
  },
  {
   "cell_type": "code",
   "execution_count": 19,
   "id": "507e5917",
   "metadata": {},
   "outputs": [
    {
     "data": {
      "text/plain": [
       "<re.Match object; span=(0, 10), match='hihiHI1234'>"
      ]
     },
     "execution_count": 19,
     "metadata": {},
     "output_type": "execute_result"
    }
   ],
   "source": [
    "re.match('[a-z]*','hihi1234')\n",
    "\n",
    "#1234도 찾을 때\n",
    "re.match('[a-z0-9]*','hihi1234')\n",
    "\n",
    "#대문자가 있을 때\n",
    "re.match('[a-zA-Z0-9]*','hihiHI1234')"
   ]
  },
  {
   "cell_type": "code",
   "execution_count": 25,
   "id": "0bb282c8",
   "metadata": {},
   "outputs": [
    {
     "data": {
      "text/plain": [
       "<re.Match object; span=(15, 20), match='안녕하세요'>"
      ]
     },
     "execution_count": 25,
     "metadata": {},
     "output_type": "execute_result"
    }
   ],
   "source": [
    "re.search('[가-힣]+','www.python.org/안녕하세요?')\n",
    "#? 를 찾지 못함\n",
    "#특수 문자도 만들어 줘야 함"
   ]
  },
  {
   "cell_type": "code",
   "execution_count": 22,
   "id": "66acc942",
   "metadata": {},
   "outputs": [
    {
     "data": {
      "text/plain": [
       "<re.Match object; span=(0, 1), match='?'>"
      ]
     },
     "execution_count": 22,
     "metadata": {},
     "output_type": "execute_result"
    }
   ],
   "source": [
    "re.search('\\?+', '?안녕!')"
   ]
  },
  {
   "cell_type": "code",
   "execution_count": 26,
   "id": "eceaf1fc",
   "metadata": {},
   "outputs": [
    {
     "data": {
      "text/plain": [
       "<re.Match object; span=(0, 8), match='hi 12345'>"
      ]
     },
     "execution_count": 26,
     "metadata": {},
     "output_type": "execute_result"
    }
   ],
   "source": [
    "re.match('[a-zA-Z0-9\\s]+', 'hi 12345')"
   ]
  },
  {
   "cell_type": "markdown",
   "id": "37f027ab",
   "metadata": {},
   "source": [
    "## 그룹사용하기\n",
    "- (정규표현식)(정규표현식)"
   ]
  },
  {
   "cell_type": "code",
   "execution_count": 27,
   "id": "7b9422a6",
   "metadata": {},
   "outputs": [
    {
     "data": {
      "text/plain": [
       "<re.Match object; span=(0, 8), match='1234 abc'>"
      ]
     },
     "execution_count": 27,
     "metadata": {},
     "output_type": "execute_result"
    }
   ],
   "source": [
    "ab = re.match('([0-9]+) ([a-z]+)', '1234 abc')\n",
    "ab"
   ]
  },
  {
   "cell_type": "code",
   "execution_count": 32,
   "id": "d2e1c5c7",
   "metadata": {},
   "outputs": [
    {
     "data": {
      "text/plain": [
       "'1234 abc'"
      ]
     },
     "execution_count": 32,
     "metadata": {},
     "output_type": "execute_result"
    }
   ],
   "source": [
    "ab.group()"
   ]
  },
  {
   "cell_type": "code",
   "execution_count": 33,
   "id": "c4156fe0",
   "metadata": {
    "scrolled": true
   },
   "outputs": [
    {
     "data": {
      "text/plain": [
       "'1234'"
      ]
     },
     "execution_count": 33,
     "metadata": {},
     "output_type": "execute_result"
    }
   ],
   "source": [
    "ab.group(1)"
   ]
  },
  {
   "cell_type": "code",
   "execution_count": 34,
   "id": "1571b702",
   "metadata": {},
   "outputs": [
    {
     "data": {
      "text/plain": [
       "'abc'"
      ]
     },
     "execution_count": 34,
     "metadata": {},
     "output_type": "execute_result"
    }
   ],
   "source": [
    "ab.group(2)"
   ]
  },
  {
   "cell_type": "markdown",
   "id": "27691db1",
   "metadata": {},
   "source": [
    "## 이메일을 찾는 정규표현식\n",
    "- 영어 소문자, 숫자만 가능\n",
    "- 대문자는 불가능\n",
    "- 문자열로 시작\n",
    "- @(홈페이지).com으로 끝남\n",
    "- 홈페이지에는 문자열만\n",
    "- '[a-z0-9]*@[a-z]*.[a-z]{3}'"
   ]
  },
  {
   "cell_type": "code",
   "execution_count": 28,
   "id": "624271e8",
   "metadata": {},
   "outputs": [
    {
     "data": {
      "text/plain": [
       "<re.Match object; span=(0, 16), match='python@gmail.com'>"
      ]
     },
     "execution_count": 28,
     "metadata": {},
     "output_type": "execute_result"
    }
   ],
   "source": [
    "re.match('[a-z0-9]*@[a-z]*.[a-z]{3}','python@gmail.com')"
   ]
  },
  {
   "cell_type": "markdown",
   "id": "5008b333",
   "metadata": {},
   "source": [
    "## 텍스트 분석\n",
    "- 문자열, 텍스트에 대한 데이터 분석\n",
    "- 문자열이라는 것은 문자이기때문에 컴퓨터에 학습시키기 위해선 수치화가 필요\n",
    "- 카운팅 기반으로 진행하거나, 빈도에 대한 것으로 수치화\n",
    "- word2vec 결국에는 다 카운팅 기반, 빈도기반으로 진행하는 것\n",
    "- 텍스트에 대한 분석이 어떻게 수치화를 하고 그것을 학습시켜서 이후 감성 분석이나 텍스트 분석 등을 실시"
   ]
  },
  {
   "cell_type": "code",
   "execution_count": 37,
   "id": "a2f88b79",
   "metadata": {},
   "outputs": [],
   "source": [
    "import pandas as pd\n",
    "survey = pd.read_csv('survey_설문지.csv')"
   ]
  },
  {
   "cell_type": "code",
   "execution_count": 39,
   "id": "53efed26",
   "metadata": {},
   "outputs": [
    {
     "data": {
      "text/html": [
       "<div>\n",
       "<style scoped>\n",
       "    .dataframe tbody tr th:only-of-type {\n",
       "        vertical-align: middle;\n",
       "    }\n",
       "\n",
       "    .dataframe tbody tr th {\n",
       "        vertical-align: top;\n",
       "    }\n",
       "\n",
       "    .dataframe thead th {\n",
       "        text-align: right;\n",
       "    }\n",
       "</style>\n",
       "<table border=\"1\" class=\"dataframe\">\n",
       "  <thead>\n",
       "    <tr style=\"text-align: right;\">\n",
       "      <th></th>\n",
       "      <th>datetime</th>\n",
       "      <th>comment</th>\n",
       "      <th>satisfaction</th>\n",
       "    </tr>\n",
       "  </thead>\n",
       "  <tbody>\n",
       "    <tr>\n",
       "      <th>0</th>\n",
       "      <td>2019-03-11</td>\n",
       "      <td>역앞에 젊은이들이 모여있다(AA역)</td>\n",
       "      <td>1</td>\n",
       "    </tr>\n",
       "    <tr>\n",
       "      <th>1</th>\n",
       "      <td>2019-02-25</td>\n",
       "      <td>운동할 수 있는 장소가 있는 것이 좋다</td>\n",
       "      <td>5</td>\n",
       "    </tr>\n",
       "    <tr>\n",
       "      <th>2</th>\n",
       "      <td>2019-02-18</td>\n",
       "      <td>육아 지원이 좋다</td>\n",
       "      <td>5</td>\n",
       "    </tr>\n",
       "    <tr>\n",
       "      <th>3</th>\n",
       "      <td>2019-04-09</td>\n",
       "      <td>어린이집에 바로 입원할 수 있다(대기아동 없음)</td>\n",
       "      <td>4</td>\n",
       "    </tr>\n",
       "    <tr>\n",
       "      <th>4</th>\n",
       "      <td>2019-01-06</td>\n",
       "      <td>역앞 상가가 쓸쓸하다</td>\n",
       "      <td>2</td>\n",
       "    </tr>\n",
       "    <tr>\n",
       "      <th>...</th>\n",
       "      <td>...</td>\n",
       "      <td>...</td>\n",
       "      <td>...</td>\n",
       "    </tr>\n",
       "    <tr>\n",
       "      <th>81</th>\n",
       "      <td>2019-01-21</td>\n",
       "      <td>초등학교 운동장이 잔디밭이라서 아주 좋다</td>\n",
       "      <td>5</td>\n",
       "    </tr>\n",
       "    <tr>\n",
       "      <th>82</th>\n",
       "      <td>2019-04-30</td>\n",
       "      <td>홈페이지에서도 설문지를 투고할 수 있게 해 달라</td>\n",
       "      <td>2</td>\n",
       "    </tr>\n",
       "    <tr>\n",
       "      <th>83</th>\n",
       "      <td>2019-01-09</td>\n",
       "      <td>공원에 놀이기구가 너무 적다</td>\n",
       "      <td>1</td>\n",
       "    </tr>\n",
       "    <tr>\n",
       "      <th>84</th>\n",
       "      <td>2019-03-09</td>\n",
       "      <td>공원을 더 늘렸으면 좋겠다</td>\n",
       "      <td>2</td>\n",
       "    </tr>\n",
       "    <tr>\n",
       "      <th>85</th>\n",
       "      <td>2019-04-02</td>\n",
       "      <td>역앞에 주차장이 적다, 불편하다</td>\n",
       "      <td>1</td>\n",
       "    </tr>\n",
       "  </tbody>\n",
       "</table>\n",
       "<p>86 rows × 3 columns</p>\n",
       "</div>"
      ],
      "text/plain": [
       "      datetime                     comment  satisfaction\n",
       "0   2019-03-11         역앞에 젊은이들이 모여있다(AA역)             1\n",
       "1   2019-02-25       운동할 수 있는 장소가 있는 것이 좋다             5\n",
       "2   2019-02-18                   육아 지원이 좋다             5\n",
       "3   2019-04-09  어린이집에 바로 입원할 수 있다(대기아동 없음)             4\n",
       "4   2019-01-06                 역앞 상가가 쓸쓸하다             2\n",
       "..         ...                         ...           ...\n",
       "81  2019-01-21      초등학교 운동장이 잔디밭이라서 아주 좋다             5\n",
       "82  2019-04-30  홈페이지에서도 설문지를 투고할 수 있게 해 달라             2\n",
       "83  2019-01-09             공원에 놀이기구가 너무 적다             1\n",
       "84  2019-03-09              공원을 더 늘렸으면 좋겠다             2\n",
       "85  2019-04-02           역앞에 주차장이 적다, 불편하다             1\n",
       "\n",
       "[86 rows x 3 columns]"
      ]
     },
     "execution_count": 39,
     "metadata": {},
     "output_type": "execute_result"
    }
   ],
   "source": [
    "survey"
   ]
  },
  {
   "cell_type": "code",
   "execution_count": 40,
   "id": "2ea5080e",
   "metadata": {
    "scrolled": true
   },
   "outputs": [
    {
     "data": {
      "text/plain": [
       "0            역앞에 젊은이들이 모여있다(AA역)\n",
       "1          운동할 수 있는 장소가 있는 것이 좋다\n",
       "2                      육아 지원이 좋다\n",
       "3     어린이집에 바로 입원할 수 있다(대기아동 없음)\n",
       "4                    역앞 상가가 쓸쓸하다\n",
       "                 ...            \n",
       "81        초등학교 운동장이 잔디밭이라서 아주 좋다\n",
       "82    홈페이지에서도 설문지를 투고할 수 있게 해 달라\n",
       "83               공원에 놀이기구가 너무 적다\n",
       "84                공원을 더 늘렸으면 좋겠다\n",
       "85             역앞에 주차장이 적다, 불편하다\n",
       "Name: comment, Length: 86, dtype: object"
      ]
     },
     "execution_count": 40,
     "metadata": {},
     "output_type": "execute_result"
    }
   ],
   "source": [
    "survey['comment']"
   ]
  },
  {
   "cell_type": "markdown",
   "id": "9740ca99",
   "metadata": {},
   "source": [
    "## commet의 영문자들을 모두 제거, regex를 통해 정규표현식 사용"
   ]
  },
  {
   "cell_type": "code",
   "execution_count": 41,
   "id": "0cbe4bfa",
   "metadata": {},
   "outputs": [],
   "source": [
    "survey['comment'] = survey['comment'].str.replace('[A-Za-z]',\"\",regex=True)"
   ]
  },
  {
   "cell_type": "code",
   "execution_count": 43,
   "id": "7aa891f9",
   "metadata": {},
   "outputs": [],
   "source": [
    "survey['len'] = survey['comment'].str.len()\n",
    "# 길이 컬럼"
   ]
  },
  {
   "cell_type": "code",
   "execution_count": 44,
   "id": "49d0a3a8",
   "metadata": {},
   "outputs": [
    {
     "data": {
      "text/html": [
       "<div>\n",
       "<style scoped>\n",
       "    .dataframe tbody tr th:only-of-type {\n",
       "        vertical-align: middle;\n",
       "    }\n",
       "\n",
       "    .dataframe tbody tr th {\n",
       "        vertical-align: top;\n",
       "    }\n",
       "\n",
       "    .dataframe thead th {\n",
       "        text-align: right;\n",
       "    }\n",
       "</style>\n",
       "<table border=\"1\" class=\"dataframe\">\n",
       "  <thead>\n",
       "    <tr style=\"text-align: right;\">\n",
       "      <th></th>\n",
       "      <th>datetime</th>\n",
       "      <th>comment</th>\n",
       "      <th>satisfaction</th>\n",
       "      <th>len</th>\n",
       "    </tr>\n",
       "  </thead>\n",
       "  <tbody>\n",
       "    <tr>\n",
       "      <th>0</th>\n",
       "      <td>2019-03-11</td>\n",
       "      <td>역앞에 젊은이들이 모여있다(역)</td>\n",
       "      <td>1</td>\n",
       "      <td>17.0</td>\n",
       "    </tr>\n",
       "    <tr>\n",
       "      <th>1</th>\n",
       "      <td>2019-02-25</td>\n",
       "      <td>운동할 수 있는 장소가 있는 것이 좋다</td>\n",
       "      <td>5</td>\n",
       "      <td>21.0</td>\n",
       "    </tr>\n",
       "    <tr>\n",
       "      <th>2</th>\n",
       "      <td>2019-02-18</td>\n",
       "      <td>육아 지원이 좋다</td>\n",
       "      <td>5</td>\n",
       "      <td>9.0</td>\n",
       "    </tr>\n",
       "    <tr>\n",
       "      <th>3</th>\n",
       "      <td>2019-04-09</td>\n",
       "      <td>어린이집에 바로 입원할 수 있다(대기아동 없음)</td>\n",
       "      <td>4</td>\n",
       "      <td>26.0</td>\n",
       "    </tr>\n",
       "    <tr>\n",
       "      <th>4</th>\n",
       "      <td>2019-01-06</td>\n",
       "      <td>역앞 상가가 쓸쓸하다</td>\n",
       "      <td>2</td>\n",
       "      <td>11.0</td>\n",
       "    </tr>\n",
       "    <tr>\n",
       "      <th>...</th>\n",
       "      <td>...</td>\n",
       "      <td>...</td>\n",
       "      <td>...</td>\n",
       "      <td>...</td>\n",
       "    </tr>\n",
       "    <tr>\n",
       "      <th>81</th>\n",
       "      <td>2019-01-21</td>\n",
       "      <td>초등학교 운동장이 잔디밭이라서 아주 좋다</td>\n",
       "      <td>5</td>\n",
       "      <td>22.0</td>\n",
       "    </tr>\n",
       "    <tr>\n",
       "      <th>82</th>\n",
       "      <td>2019-04-30</td>\n",
       "      <td>홈페이지에서도 설문지를 투고할 수 있게 해 달라</td>\n",
       "      <td>2</td>\n",
       "      <td>26.0</td>\n",
       "    </tr>\n",
       "    <tr>\n",
       "      <th>83</th>\n",
       "      <td>2019-01-09</td>\n",
       "      <td>공원에 놀이기구가 너무 적다</td>\n",
       "      <td>1</td>\n",
       "      <td>15.0</td>\n",
       "    </tr>\n",
       "    <tr>\n",
       "      <th>84</th>\n",
       "      <td>2019-03-09</td>\n",
       "      <td>공원을 더 늘렸으면 좋겠다</td>\n",
       "      <td>2</td>\n",
       "      <td>14.0</td>\n",
       "    </tr>\n",
       "    <tr>\n",
       "      <th>85</th>\n",
       "      <td>2019-04-02</td>\n",
       "      <td>역앞에 주차장이 적다, 불편하다</td>\n",
       "      <td>1</td>\n",
       "      <td>17.0</td>\n",
       "    </tr>\n",
       "  </tbody>\n",
       "</table>\n",
       "<p>86 rows × 4 columns</p>\n",
       "</div>"
      ],
      "text/plain": [
       "      datetime                     comment  satisfaction   len\n",
       "0   2019-03-11           역앞에 젊은이들이 모여있다(역)             1  17.0\n",
       "1   2019-02-25       운동할 수 있는 장소가 있는 것이 좋다             5  21.0\n",
       "2   2019-02-18                   육아 지원이 좋다             5   9.0\n",
       "3   2019-04-09  어린이집에 바로 입원할 수 있다(대기아동 없음)             4  26.0\n",
       "4   2019-01-06                 역앞 상가가 쓸쓸하다             2  11.0\n",
       "..         ...                         ...           ...   ...\n",
       "81  2019-01-21      초등학교 운동장이 잔디밭이라서 아주 좋다             5  22.0\n",
       "82  2019-04-30  홈페이지에서도 설문지를 투고할 수 있게 해 달라             2  26.0\n",
       "83  2019-01-09             공원에 놀이기구가 너무 적다             1  15.0\n",
       "84  2019-03-09              공원을 더 늘렸으면 좋겠다             2  14.0\n",
       "85  2019-04-02           역앞에 주차장이 적다, 불편하다             1  17.0\n",
       "\n",
       "[86 rows x 4 columns]"
      ]
     },
     "execution_count": 44,
     "metadata": {},
     "output_type": "execute_result"
    }
   ],
   "source": [
    "survey"
   ]
  },
  {
   "cell_type": "code",
   "execution_count": 46,
   "id": "d0573096",
   "metadata": {},
   "outputs": [
    {
     "data": {
      "text/plain": [
       "(array([19., 19., 20., 11.,  7.,  3.,  4.,  0.,  0.,  1.]),\n",
       " array([ 6. , 11.6, 17.2, 22.8, 28.4, 34. , 39.6, 45.2, 50.8, 56.4, 62. ]),\n",
       " <BarContainer object of 10 artists>)"
      ]
     },
     "execution_count": 46,
     "metadata": {},
     "output_type": "execute_result"
    },
    {
     "data": {
      "image/png": "[encoded data removed]",
      "text/plain": [
       "<Figure size 640x480 with 1 Axes>"
      ]
     },
     "metadata": {},
     "output_type": "display_data"
    }
   ],
   "source": [
    "import matplotlib.pyplot as plt\n",
    "plt.hist(survey['len'])"
   ]
  },
  {
   "cell_type": "code",
   "execution_count": null,
   "id": "d9d198bb",
   "metadata": {},
   "outputs": [],
   "source": []
  }
 ],
 "metadata": {
  "kernelspec": {
   "display_name": "Python 3 (ipykernel)",
   "language": "python",
   "name": "python3"
  },
  "language_info": {
   "codemirror_mode": {
    "name": "ipython",
    "version": 3
   },
   "file_extension": ".py",
   "mimetype": "text/x-python",
   "name": "python",
   "nbconvert_exporter": "python",
   "pygments_lexer": "ipython3",
   "version": "3.9.13"
  }
 },
 "nbformat": 4,
 "nbformat_minor": 5
}
