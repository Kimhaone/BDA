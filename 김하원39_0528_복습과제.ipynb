{
 "cells": [
  {
   "cell_type": "code",
   "execution_count": null,
   "id": "6ade2b08",
   "metadata": {},
   "outputs": [],
   "source": [
    "!pip install pystan\n",
    "!pip install prophet\n",
    "!pip install fbprophet\n",
    "\n",
    "import numpy as np\n",
    "from prophet import Prophet\n",
    "from prophet.plot import plot_plotly, plot_components_plotly\n",
    "from prophet.diagnositcs import cross_validation\n",
    "from prophet.diagnostics import performance_metrics\n",
    "import warnings\n",
    "warnings.filterwarnings('ignore')\n",
    "warninfs.simplefilter(action =\"ignore\", category = RuntimeWarning)\n",
    "import datetime as dt\n",
    "import pandas as pd\n",
    "pd.core.common.is_list_like = pd.api.types.is_list_like\n",
    "\n",
    "import numpy as np\n",
    "import matplotlib.pyplot as plt\n",
    "import seaborn as sns\n",
    "import matplotlib.sates as mdates\n",
    "import pandas as pd\n",
    "from ploynine import *\n",
    "import io\n",
    "\n",
    "import statistics as st\n",
    "%matplotlib inline\n",
    "import matplotlib.dates as mdastes\n",
    "from pandas import DataFrame\n",
    "from pandas import to_datetime\n",
    "from statsmodels.tsa.stattools import kpss\n",
    "from statsmodels.tsa.stattools import adfuller\n",
    "from sklearn.metrics import mean_absolute_error"
   ]
  },
  {
   "cell_type": "code",
   "execution_count": null,
   "id": "3675fcb4",
   "metadata": {},
   "outputs": [],
   "source": [
    "df = pd.read_csv('sales_data.csv', encoding = 'unicode_escape')\n",
    "df"
   ]
  },
  {
   "cell_type": "code",
   "execution_count": null,
   "id": "58811b8b",
   "metadata": {},
   "outputs": [],
   "source": [
    "df['InvoiceDate'] = pd.to_datetime(df['InvoiceDate'])"
   ]
  },
  {
   "cell_type": "code",
   "execution_count": null,
   "id": "4a87a409",
   "metadata": {},
   "outputs": [],
   "source": [
    "df1 = df.copy()\n",
    "\n",
    "df1 = df1[df.Quantity>0]\n",
    "df1 = df1[df1.UnitPrice>0]"
   ]
  },
  {
   "cell_type": "code",
   "execution_count": null,
   "id": "5d894565",
   "metadata": {},
   "outputs": [],
   "source": [
    "df1['ttp'] = df1['Quantity'] + df1['UnitPrice']\n",
    "\n",
    "df1"
   ]
  },
  {
   "cell_type": "code",
   "execution_count": null,
   "id": "eb644d3e",
   "metadata": {},
   "outputs": [],
   "source": [
    "df_psp = df1['InvoiceDate', 'ttp']\n",
    "df_psp.rename(columns = {'InvoiceDate':'ds', 'ttp':'y'}, inplace=True)"
   ]
  },
  {
   "cell_type": "code",
   "execution_count": null,
   "id": "bba329c2",
   "metadata": {},
   "outputs": [],
   "source": [
    "df_psp"
   ]
  },
  {
   "cell_type": "code",
   "execution_count": null,
   "id": "83220cc5",
   "metadata": {},
   "outputs": [],
   "source": [
    "df_psp = df_psp.set_index('ds')\n",
    "df_f= df_psp.resemple('D')['y'].sum()\n",
    "\n",
    "df_f = df_f.to_frame()\n",
    "df_f"
   ]
  },
  {
   "cell_type": "code",
   "execution_count": null,
   "id": "de287638",
   "metadata": {},
   "outputs": [],
   "source": [
    "df_f.plot()"
   ]
  },
  {
   "cell_type": "code",
   "execution_count": null,
   "id": "907f4d38",
   "metadata": {},
   "outputs": [],
   "source": [
    "df_f.reset_index(inplace = True)"
   ]
  },
  {
   "cell_type": "code",
   "execution_count": null,
   "id": "d3b05370",
   "metadata": {},
   "outputs": [],
   "source": [
    "df_f"
   ]
  },
  {
   "cell_type": "code",
   "execution_count": null,
   "id": "8a39224e",
   "metadata": {},
   "outputs": [],
   "source": [
    "train = df_f[:334]\n",
    "test = df_f[334:]"
   ]
  },
  {
   "cell_type": "code",
   "execution_count": null,
   "id": "d4f44970",
   "metadata": {},
   "outputs": [],
   "source": [
    "prophet = Prophet(daily_seasonality = True,\n",
    "                 growth = 'linear')\n",
    "prophet.fit(train)"
   ]
  },
  {
   "cell_type": "code",
   "execution_count": null,
   "id": "8d4dcc21",
   "metadata": {},
   "outputs": [],
   "source": [
    "future = prophet.make_future_dataframe(periods = 40)\n",
    "forecast = prophet.predict(future)"
   ]
  },
  {
   "cell_type": "code",
   "execution_count": null,
   "id": "242cf5fc",
   "metadata": {},
   "outputs": [],
   "source": [
    "ph_yhat = forecaset[['ds','yhat']][334:]"
   ]
  },
  {
   "cell_type": "code",
   "execution_count": null,
   "id": "f30ac901",
   "metadata": {},
   "outputs": [],
   "source": [
    "ph_yhat"
   ]
  },
  {
   "cell_type": "code",
   "execution_count": null,
   "id": "67cd25fa",
   "metadata": {},
   "outputs": [],
   "source": [
    "print(forecast[['ds','yhat','yhat_lower','yhat_upper']]).head()\n",
    "\n",
    "prophet.plot(forecast)\n",
    "plt.show()"
   ]
  },
  {
   "cell_type": "code",
   "execution_count": null,
   "id": "d0b5eceb",
   "metadata": {},
   "outputs": [],
   "source": [
    "from matplotlib.pyplot import figure\n",
    "figure(figsize = (16,8), dpi = 80)\n",
    "\n",
    "plt.plot(test['y'].values, lable = 'Actual')\n",
    "plt.plot(ph_yhat['yhat'].values, label = 'Predicted')\n",
    "plt.legend()\n",
    "plt.show()"
   ]
  },
  {
   "cell_type": "code",
   "execution_count": null,
   "id": "aee16877",
   "metadata": {},
   "outputs": [],
   "source": [
    "prophet.plot_components(forecast)"
   ]
  },
  {
   "cell_type": "code",
   "execution_count": null,
   "id": "ef1161d6",
   "metadata": {},
   "outputs": [],
   "source": [
    "pip install finance-datereader"
   ]
  },
  {
   "cell_type": "code",
   "execution_count": null,
   "id": "3c1a807f",
   "metadata": {},
   "outputs": [],
   "source": [
    "import FinanceDataReader as fdr"
   ]
  },
  {
   "cell_type": "code",
   "execution_count": null,
   "id": "62454a5f",
   "metadata": {},
   "outputs": [],
   "source": [
    "fdr.StockListing('KRX')"
   ]
  },
  {
   "cell_type": "code",
   "execution_count": null,
   "id": "b86323b9",
   "metadata": {},
   "outputs": [],
   "source": []
  }
 ],
 "metadata": {
  "kernelspec": {
   "display_name": "Python 3 (ipykernel)",
   "language": "python",
   "name": "python3"
  },
  "language_info": {
   "codemirror_mode": {
    "name": "ipython",
    "version": 3
   },
   "file_extension": ".py",
   "mimetype": "text/x-python",
   "name": "python",
   "nbconvert_exporter": "python",
   "pygments_lexer": "ipython3",
   "version": "3.9.13"
  }
 },
 "nbformat": 4,
 "nbformat_minor": 5
}
